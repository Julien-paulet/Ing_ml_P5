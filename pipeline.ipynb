{
 "cells": [
  {
   "cell_type": "code",
   "execution_count": 58,
   "metadata": {},
   "outputs": [],
   "source": [
    "import csv\n",
    "from lxml import html\n",
    "import pandas as pd\n",
    "import numpy as np\n",
    "import nltk\n",
    "import string\n",
    "import re\n",
    "from collections import defaultdict\n",
    "from nltk.stem.snowball import EnglishStemmer\n",
    "from pickle import load\n",
    "from sklearn.pipeline import Pipeline, make_pipeline"
   ]
  },
  {
   "cell_type": "markdown",
   "metadata": {},
   "source": [
    "# Loading models"
   ]
  },
  {
   "cell_type": "code",
   "execution_count": 2,
   "metadata": {},
   "outputs": [],
   "source": [
    "tfidf = load(open('tfidf', 'rb'))\n",
    "model = load(open('model', 'rb'))"
   ]
  },
  {
   "cell_type": "markdown",
   "metadata": {},
   "source": [
    "# Loading stopwords"
   ]
  },
  {
   "cell_type": "code",
   "execution_count": 3,
   "metadata": {},
   "outputs": [
    {
     "name": "stderr",
     "output_type": "stream",
     "text": [
      "[nltk_data] Downloading package stopwords to\n",
      "[nltk_data]     /home/mlmaster/nltk_data...\n",
      "[nltk_data]   Package stopwords is already up-to-date!\n"
     ]
    }
   ],
   "source": [
    "nltk.download('stopwords')\n",
    "tokenizer = nltk.RegexpTokenizer(r'\\w+')"
   ]
  },
  {
   "cell_type": "markdown",
   "metadata": {},
   "source": [
    "# Loading Data"
   ]
  },
  {
   "cell_type": "code",
   "execution_count": 4,
   "metadata": {},
   "outputs": [],
   "source": [
    "x = pd.read_csv('QueryResults.csv')[0:5]\n",
    "title = x['Title']\n",
    "body = x['Body']"
   ]
  },
  {
   "cell_type": "code",
   "execution_count": 22,
   "metadata": {},
   "outputs": [],
   "source": [
    "to_keep = open(\"to_keep.csv\", 'r')\n",
    "to_keep = csv.reader(to_keep)\n",
    "to_keep = list(to_keep)\n",
    "\n",
    "sw = open(\"sw.csv\", 'r')\n",
    "sw = csv.reader(sw)\n",
    "sw = list(sw)"
   ]
  },
  {
   "cell_type": "markdown",
   "metadata": {},
   "source": [
    "# Building the pipeline"
   ]
  },
  {
   "cell_type": "code",
   "execution_count": 79,
   "metadata": {},
   "outputs": [],
   "source": [
    "def pipe(title, body):\n",
    "    body = title + body\n",
    "    body = title + body\n",
    "    print(body)\n",
    "    parser = lambda x: html.fromstring(x).text_content()\n",
    "    body = list(map(parser, body))\n",
    "    print(body)\n",
    "    body.replace(r'\\n', '', regex=True, inplace=True)\n",
    "    \n",
    "    # There is still some html tags, let's remove them with a regex\n",
    "    TAG_RE = re.compile(r'<[^>]+>')\n",
    "    tags_re = lambda x: TAG_RE.sub('', x)\n",
    "    body = list(map(tags_re, body))\n",
    "    print(body)\n",
    "    # Init stemmer and tokenizer\n",
    "    stemmer = EnglishStemmer()\n",
    "    tokenizer = nltk.RegexpTokenizer(r'\\w+')\n",
    "    \n",
    "    # Loop over data to remove stop words and keep only the good words\n",
    "    desc = []\n",
    "    i = 0\n",
    "    for row in body:\n",
    "        if i%2000 == 0:\n",
    "            print(\"Performing Step \", i, \"/\", len(body))\n",
    "        token = tokenizer.tokenize(row.lower())\n",
    "        description = [stemmer.stem(w) for w in token if not w in sw and w in to_keep]\n",
    "        desc.append(description)\n",
    "        i += 1\n",
    "    body_cleaned = [' '.join(map(str, l)) for l in desc]\n",
    "    \n",
    "    return body_cleaned"
   ]
  },
  {
   "cell_type": "code",
   "execution_count": 80,
   "metadata": {},
   "outputs": [
    {
     "data": {
      "text/plain": [
       "0    <p>The below code only seems to work on the fi...\n",
       "1    <p>I have two questions:</p>\\n\\n<ol>\\n<li><p>I...\n",
       "2    <p>I am trying to connect Sql server and MySql...\n",
       "3    <p>I use angular 2 and bootstrap 4, There is a...\n",
       "4    <p>I have a xml generated from SharePoint and ...\n",
       "Name: Body, dtype: object"
      ]
     },
     "execution_count": 80,
     "metadata": {},
     "output_type": "execute_result"
    }
   ],
   "source": [
    "body"
   ]
  },
  {
   "cell_type": "code",
   "execution_count": 81,
   "metadata": {},
   "outputs": [
    {
     "name": "stdout",
     "output_type": "stream",
     "text": [
      "0    Macro only running through first resultMacro o...\n",
      "1    Set limitation on gap tolerance and run timeSe...\n",
      "2    Connect two different Database with one applic...\n",
      "3    bootstrap 4 navbar disappears when resizing sc...\n",
      "4    xml transform XSLT with namespacesxml transfor...\n",
      "dtype: object\n",
      "['Macro only running through first resultMacro only running through first resultThe below code only seems to work on the first result. I have to re-run it for the other results to be removed. Could anyone take a look and tell me why please? Thanks\\n\\nI\\'ve tried copy and pasting the code several times to compensate but it gives me an error about duplicate code\\n\\nDim cell As Range\\nFor Each cell In [AE1:AE2000]\\n    If cell.Value = \"REMOVE\" Then Range(cell.Offset(0, -5).Address & \":\" & cell.Offset(0, 0).Address).Delete Shift:=xlUp\\nNext cell\\n\\n', 'Set limitation on gap tolerance and run timeSet limitation on gap tolerance and run timeI have two questions:\\n\\n\\nIn IBM ILOG CPLEX, I wrote an OPL project. Because the code works with large scale data, it takes a lot of time to solve. What is the code for limitation the gap tolerance of MIP Problem and limitation the time?\\nI want to have a CSV file containing my desired results. For example, I want to have an objective function and runtime and the facility variable in a CSV file. I got all these results but I want them to be written in a CSV file too.\\n\\n', 'Connect two different Database with one application in ASP.NETConnect two different Database with one application in ASP.NETI am trying to connect Sql server and MySql database with my application in Visual studio. Is it possible to connect multiple database with one application. \\n\\nBecause i have to import data from mysql in my application. There is lot data in mysql database. So, i am thinking to connect to mysql as well as my current database (sql server). is there any way, please let me know.\\n\\nThanks\\n', 'bootstrap 4 navbar disappears when resizing screenbootstrap 4 navbar disappears when resizing screenI use angular 2 and bootstrap 4, There is a navbar on the home page, but when I narrow the page to smaller than 1000px, the text of navbar disappeared.\\n\\nHere is my code:\\n\\n <nav class=\"navbar navbar-expand-lg navbar-dark bg-info\" style=\"padding: 1px; width: 100%\">\\n    <!-- <a class=\"navbar-brand\" routerLink=\\'/index\\' style=\"padding-right: 5px\">\\n    </a> -->\\n    <div class=\"navbar-inner\">\\n      <div class=\"container\">\\n\\n        <!-- .btn-navbar is used as the toggle for collapsed navbar content -->\\n        <a class=\"btn btn-navbar\" data-toggle=\"collapse\" data-target=\".nav-collapse\">\\n            <span class=\"icon-bar\"></span>\\n            <span class=\"icon-bar\"></span>\\n            <span class=\"icon-bar\"></span>\\n          </a>\\n        <!-- Be sure to leave the brand out there if you want it shown -->\\n        <!-- <a class=\"brand\" href=\"#\">Project name</a> -->\\n\\n        <div class=\"collapse navbar-collapse\" >\\n          <div class=\"navbar-nav mr-auto\" id=\"navbarNavAltMarkup\">\\n            <a class=\"nav-link navLink\" routerLink=\"/index\" routerLinkActive=\"active\"><h5>Introduction</h5></a>\\n            <a class=\"nav-link navLink\" routerLink=\"/analysis\" routerLinkActive=\"active\"><h5>Analysis</h5></a>\\n            <a class=\"nav-link navLink\" routerLink=\"/help\" routerLinkActive=\"active\"><h5>Help</h5></a>\\n            <a class=\"nav-link navLink\" routerLink=\"/faq\" routerLinkActive=\"active\"><h5>FAQs</h5></a>\\n            <a class=\"nav-link navLink\" routerLink=\"/demo\" routerLinkActive=\"active\"><h5>Demo</h5></a>\\n            <a class=\"nav-link navLink\" href=\"http://www.zhulab.cn\" routerLinkActive=\"active\"><h5>ZhuLab</h5></a>\\n          </div>\\n        </div>\\n      </div>\\n    </div>\\n  </nav>\\n\\n\\nYou can see it from https://angular-ymfn5q.stackblitz.io/,\\n\\nhere is the code: https://stackblitz.com/edit/angular-ymfn5q?file=app%2Fapp.component.html\\n\\nI have tried this method, bootstrap collapse menu disappears when resizing screen, but it seems not work for me. \\n\\nI want something like this: https://jsfiddle.net/65KdX/1/\\n\\nAnyone can give me a help, thanks a lot!\\n', 'xml transform XSLT with namespacesxml transform XSLT with namespacesI have a xml generated from SharePoint and I need to extract some data and generate a simplifed xml\\n\\nThis is my original (simplified) source file\\n\\n<?xml version=\"1.0\" encoding=\"utf-8\"?>\\n<feed xml:base=\"http://itkm.gamesacorp.com/applications/_api/\" xmlns=\"http://www.w3.org/2005/Atom\" xmlns:d=\"http://schemas.microsoft.com/ado/2007/08/dataservices\" xmlns:m=\"http://schemas.microsoft.com/ado/2007/08/dataservices/metadata\" xmlns:georss=\"http://www.georss.org/georss\" xmlns:gml=\"http://www.opengis.net/gml\">\\n    <id>f8a19240-e319-454a-b4a6-fab8e3470c8d</id>\\n    <title />\\n    <updated>2018-01-17T15:13:15Z</updated>\\n    <entry m:etag=\"&quot;53&quot;\">\\n        <id>Web/Lists(guid\\'fe244c05-99f9-4b69-8727-46327122b245\\')/Items(1)</id>\\n        <content type=\"application/xml\">\\n            <m:properties>\\n                <d:Codigo>0002</d:Codigo>\\n                <d:App_x0020_name>GOT</d:App_x0020_name>\\n            </m:properties>\\n        </content>\\n    </entry>\\n    <entry m:etag=\"&quot;49&quot;\">\\n        <id>Web/Lists(guid\\'fe244c05-99f9-4b69-8727-46327122b245\\')/Items(3)</id>\\n        <content type=\"application/xml\">\\n            <m:properties>\\n                <d:Codigo>0006</d:Codigo>\\n                <d:App_x0020_name>ALTAIR</d:App_x0020_name>\\n            </m:properties>\\n        </content>\\n    </entry>\\n</feed>\\n\\n\\nAnd this is my xslt\\n\\n<?xml version=\"1.0\" encoding=\"UTF-8\"?>\\n<xsl:stylesheet xmlns:xsl=\"http://www.w3.org/1999/XSL/Transform\" version=\"1.0\">\\n<xsl:output encoding=\"UTF-8\" indent=\"yes\" method=\"xml\" standalone=\"no\" omit-xml-declaration=\"no\"/>\\n\\n<xsl:template match=\"feed\">\\n  <Applications>\\n      <xsl:for-each select=\"entry\">\\n         <App>\\n             <Code><xsl:value-of select=\"content/properties/Codigo\"/></Code>\\n             <Name><xsl:value-of select=\"content/properties/App_x0020_name\"/></Name>\\n             <Uri><xsl:value-of select=\"id\"/></Uri>\\n        </App>\\n      </xsl:for-each>\\n  </Applications>\\n</xsl:template>\\n</xsl:stylesheet>\\n\\n\\nIf I omit namespaces in both xml and xslt, the result is as expected, but I need the xlst working with the namespaces, but I don\\'t what namespaces (and how) include in the xslt\\n\\nThis is the modified xml that works for me, please note that I removed all the references to the namespaces:\\n\\n<?xml version=\"1.0\" encoding=\"utf-8\"?>\\n<feed>\\n    <id>f8a19240-e319-454a-b4a6-fab8e3470c8d</id>\\n    <title />\\n    <updated>2018-01-17T15:13:15Z</updated>\\n    <entry etag=\"&quot;53&quot;\">\\n        <id>Web/Lists(guid\\'fe244c05-99f9-4b69-8727-46327122b245\\')/Items(1)</id>\\n        <content type=\"application/xml\">\\n            <m:properties>\\n                <Codigo>0002</Codigo>\\n                <App_x0020_name>GOT</App_x0020_name>\\n            </m:properties>\\n        </content>\\n    </entry>\\n</feed>\\n\\n\\nHow can I do with the xslt to work with namespaces?\\n']\n"
     ]
    },
    {
     "ename": "AttributeError",
     "evalue": "'list' object has no attribute 'replace'",
     "output_type": "error",
     "traceback": [
      "\u001b[0;31m---------------------------------------------------------------------------\u001b[0m",
      "\u001b[0;31mAttributeError\u001b[0m                            Traceback (most recent call last)",
      "\u001b[0;32m<ipython-input-81-6534d35f6454>\u001b[0m in \u001b[0;36m<module>\u001b[0;34m\u001b[0m\n\u001b[0;32m----> 1\u001b[0;31m \u001b[0mpipe\u001b[0m\u001b[0;34m(\u001b[0m\u001b[0mtitle\u001b[0m\u001b[0;34m,\u001b[0m \u001b[0mbody\u001b[0m\u001b[0;34m)\u001b[0m\u001b[0;34m\u001b[0m\u001b[0;34m\u001b[0m\u001b[0m\n\u001b[0m",
      "\u001b[0;32m<ipython-input-79-325ea48d0c90>\u001b[0m in \u001b[0;36mpipe\u001b[0;34m(title, body)\u001b[0m\n\u001b[1;32m      6\u001b[0m     \u001b[0mbody\u001b[0m \u001b[0;34m=\u001b[0m \u001b[0mlist\u001b[0m\u001b[0;34m(\u001b[0m\u001b[0mmap\u001b[0m\u001b[0;34m(\u001b[0m\u001b[0mparser\u001b[0m\u001b[0;34m,\u001b[0m \u001b[0mbody\u001b[0m\u001b[0;34m)\u001b[0m\u001b[0;34m)\u001b[0m\u001b[0;34m\u001b[0m\u001b[0;34m\u001b[0m\u001b[0m\n\u001b[1;32m      7\u001b[0m     \u001b[0mprint\u001b[0m\u001b[0;34m(\u001b[0m\u001b[0mbody\u001b[0m\u001b[0;34m)\u001b[0m\u001b[0;34m\u001b[0m\u001b[0;34m\u001b[0m\u001b[0m\n\u001b[0;32m----> 8\u001b[0;31m     \u001b[0mbody\u001b[0m\u001b[0;34m.\u001b[0m\u001b[0mreplace\u001b[0m\u001b[0;34m(\u001b[0m\u001b[0;34mr'\\n'\u001b[0m\u001b[0;34m,\u001b[0m \u001b[0;34m''\u001b[0m\u001b[0;34m,\u001b[0m \u001b[0mregex\u001b[0m\u001b[0;34m=\u001b[0m\u001b[0;32mTrue\u001b[0m\u001b[0;34m,\u001b[0m \u001b[0minplace\u001b[0m\u001b[0;34m=\u001b[0m\u001b[0;32mTrue\u001b[0m\u001b[0;34m)\u001b[0m\u001b[0;34m\u001b[0m\u001b[0;34m\u001b[0m\u001b[0m\n\u001b[0m\u001b[1;32m      9\u001b[0m \u001b[0;34m\u001b[0m\u001b[0m\n\u001b[1;32m     10\u001b[0m     \u001b[0;31m# There is still some html tags, let's remove them with a regex\u001b[0m\u001b[0;34m\u001b[0m\u001b[0;34m\u001b[0m\u001b[0;34m\u001b[0m\u001b[0m\n",
      "\u001b[0;31mAttributeError\u001b[0m: 'list' object has no attribute 'replace'"
     ]
    }
   ],
   "source": [
    "pipe(title, body)"
   ]
  },
  {
   "cell_type": "code",
   "execution_count": 12,
   "metadata": {},
   "outputs": [],
   "source": [
    "pipe = Pipeline([('tf-idf', tfidf), ('Model', model)])"
   ]
  },
  {
   "cell_type": "code",
   "execution_count": null,
   "metadata": {},
   "outputs": [],
   "source": []
  }
 ],
 "metadata": {
  "kernelspec": {
   "display_name": "Python 3",
   "language": "python",
   "name": "python3"
  },
  "language_info": {
   "codemirror_mode": {
    "name": "ipython",
    "version": 3
   },
   "file_extension": ".py",
   "mimetype": "text/x-python",
   "name": "python",
   "nbconvert_exporter": "python",
   "pygments_lexer": "ipython3",
   "version": "3.8.3"
  }
 },
 "nbformat": 4,
 "nbformat_minor": 4
}
