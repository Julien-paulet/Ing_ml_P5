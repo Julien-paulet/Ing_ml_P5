{
 "cells": [
  {
   "cell_type": "code",
   "execution_count": 1,
   "metadata": {},
   "outputs": [],
   "source": [
    "import csv\n",
    "from lxml import html\n",
    "import pandas as pd\n",
    "import numpy as np\n",
    "import nltk\n",
    "import string\n",
    "import re\n",
    "from collections import defaultdict\n",
    "from nltk.stem.snowball import EnglishStemmer\n",
    "from pickle import load"
   ]
  },
  {
   "cell_type": "markdown",
   "metadata": {},
   "source": [
    "# Loading stopwords"
   ]
  },
  {
   "cell_type": "code",
   "execution_count": 2,
   "metadata": {},
   "outputs": [
    {
     "name": "stderr",
     "output_type": "stream",
     "text": [
      "[nltk_data] Downloading package stopwords to\n",
      "[nltk_data]     /home/mlmaster/nltk_data...\n",
      "[nltk_data]   Package stopwords is already up-to-date!\n"
     ]
    }
   ],
   "source": [
    "nltk.download('stopwords')\n",
    "tokenizer = nltk.RegexpTokenizer(r'\\w+')"
   ]
  },
  {
   "cell_type": "markdown",
   "metadata": {},
   "source": [
    "# Loading Data"
   ]
  },
  {
   "cell_type": "code",
   "execution_count": 3,
   "metadata": {},
   "outputs": [],
   "source": [
    "x = pd.read_csv('QueryResults.csv')[0:10]\n",
    "title = x['Title']\n",
    "body = x['Body']"
   ]
  },
  {
   "cell_type": "code",
   "execution_count": 4,
   "metadata": {},
   "outputs": [
    {
     "data": {
      "text/plain": [
       "0              Macro only running through first result\n",
       "1         Set limitation on gap tolerance and run time\n",
       "2    Connect two different Database with one applic...\n",
       "3    bootstrap 4 navbar disappears when resizing sc...\n",
       "4                   xml transform XSLT with namespaces\n",
       "5    Convert Timestamp to Date with various formats...\n",
       "6    What is the best practice for estimating requi...\n",
       "7                         How to find an object by id?\n",
       "8    Deep learning: parameter selection and result ...\n",
       "9              Connect multiple databases with laravel\n",
       "Name: Title, dtype: object"
      ]
     },
     "execution_count": 4,
     "metadata": {},
     "output_type": "execute_result"
    }
   ],
   "source": [
    "title"
   ]
  },
  {
   "cell_type": "code",
   "execution_count": 5,
   "metadata": {},
   "outputs": [],
   "source": [
    "to_keep_ = open(\"Flask/to_keep.csv\", 'r')\n",
    "to_keep_ = csv.reader(to_keep_)\n",
    "to_keep = list(to_keep_)\n",
    "to_keep = [item for sublist in to_keep for item in sublist]\n",
    "\n",
    "sw = open(\"Flask/sw.csv\", 'r')\n",
    "sw = csv.reader(sw)\n",
    "sw = list(sw)\n",
    "sw = [item for sublist in sw for item in sublist]"
   ]
  },
  {
   "cell_type": "markdown",
   "metadata": {},
   "source": [
    "# Building the pipeline"
   ]
  },
  {
   "cell_type": "code",
   "execution_count": 6,
   "metadata": {},
   "outputs": [],
   "source": [
    "def pipe(title, body):\n",
    "    body = title + ' ' + body\n",
    "    body = title + ' ' + body\n",
    "    body = html.fromstring(body).text_content()\n",
    "    body = body.replace('\\n', '')\n",
    "\n",
    "    # There is still some html tags, let's remove them with a regex\n",
    "    TAG_RE = re.compile(r'<[^>]+>')\n",
    "    body = TAG_RE.sub('', body)\n",
    "    # Init stemmer and tokenizer\n",
    "    stemmer = EnglishStemmer()\n",
    "    tokenizer = nltk.RegexpTokenizer(r'\\w+')\n",
    "    # Remove stop words and keep only the good words\n",
    "    token = tokenizer.tokenize(body.lower())\n",
    "    desc = [stemmer.stem(w) for w in token if not w in sw and w in to_keep]\n",
    "    # Transforming the result to a single row\n",
    "    desc = pd.DataFrame(desc).T.apply(lambda x: ' '.join(x.dropna().astype(str)), axis=1)\n",
    "    \n",
    "    return desc"
   ]
  },
  {
   "cell_type": "code",
   "execution_count": 7,
   "metadata": {},
   "outputs": [
    {
     "data": {
      "text/plain": [
       "Id                                                                48320558\n",
       "PostTypeId                                                               1\n",
       "AcceptedAnswerId                                                  48321030\n",
       "ParentId                                                               NaN\n",
       "CreationDate                                           2018-01-18 11:44:57\n",
       "DeletionDate                                                           NaN\n",
       "Score                                                                    0\n",
       "ViewCount                                                              196\n",
       "Body                     <p>I have a xml generated from SharePoint and ...\n",
       "OwnerUserId                                                         777551\n",
       "OwnerDisplayName                                                       NaN\n",
       "LastEditorUserId                                                       NaN\n",
       "LastEditorDisplayName                                                  NaN\n",
       "LastEditDate                                                           NaN\n",
       "LastActivityDate                                       2018-01-18 12:10:25\n",
       "Title                                   xml transform XSLT with namespaces\n",
       "Tags                                                           <xml><xslt>\n",
       "AnswerCount                                                              1\n",
       "CommentCount                                                             0\n",
       "FavoriteCount                                                          NaN\n",
       "ClosedDate                                             2018-01-18 16:35:29\n",
       "CommunityOwnedDate                                                     NaN\n",
       "ContentLicense                                                CC BY-SA 3.0\n",
       "Name: 4, dtype: object"
      ]
     },
     "execution_count": 7,
     "metadata": {},
     "output_type": "execute_result"
    }
   ],
   "source": [
    "x.iloc[4,:]"
   ]
  },
  {
   "cell_type": "code",
   "execution_count": 8,
   "metadata": {},
   "outputs": [],
   "source": [
    "tfidf = load(open('Flask/tfidf', 'rb'))\n",
    "model = load(open('Flask/model', 'rb'))\n",
    "mb = load(open('Flask/mb', 'rb'))"
   ]
  },
  {
   "cell_type": "code",
   "execution_count": 26,
   "metadata": {},
   "outputs": [],
   "source": [
    "pip = pipe(title[6], body[6])\n",
    "cleaned = tfidf.transform(pip)\n",
    "result = model.predict_proba(cleaned)"
   ]
  },
  {
   "cell_type": "code",
   "execution_count": 32,
   "metadata": {},
   "outputs": [
    {
     "name": "stdout",
     "output_type": "stream",
     "text": [
      "('',)\n"
     ]
    },
    {
     "data": {
      "text/plain": [
       "[]"
      ]
     },
     "execution_count": 32,
     "metadata": {},
     "output_type": "execute_result"
    }
   ],
   "source": [
    "res = mb.inverse_transform(model.predict(cleaned))[0]\n",
    "print(res)\n",
    "res = [i for i in res if i != '']\n",
    "res"
   ]
  },
  {
   "cell_type": "code",
   "execution_count": 35,
   "metadata": {},
   "outputs": [
    {
     "name": "stdout",
     "output_type": "stream",
     "text": [
      "null\n"
     ]
    }
   ],
   "source": [
    "if res:\n",
    "    print('ok')\n",
    "    \n",
    "else:\n",
    "    print('null')"
   ]
  },
  {
   "cell_type": "code",
   "execution_count": 11,
   "metadata": {},
   "outputs": [
    {
     "data": {
      "text/plain": [
       "array([[8.76470549e-01, 8.44779388e-03, 4.60697874e-04, 7.48541961e-04,\n",
       "        6.03596519e-04, 1.86885253e-03, 7.00424366e-04, 9.88116932e-03,\n",
       "        6.20164630e-04, 5.50807138e-04, 3.04810668e-03, 4.38570307e-04,\n",
       "        7.15535662e-04, 1.92586091e-03, 4.32941329e-04, 5.49348687e-04,\n",
       "        1.84918692e-03, 3.60980647e-03, 6.56268523e-04, 4.27580456e-04,\n",
       "        4.91146832e-04, 8.28485480e-04, 1.39794628e-03, 2.69034133e-04,\n",
       "        7.84723551e-04, 3.91230198e-04, 5.99581260e-04, 6.01358915e-04,\n",
       "        7.83104776e-04, 1.28485827e-03, 8.53111391e-04, 1.11328020e-03,\n",
       "        5.33312305e-04, 4.11624822e-04, 2.67034987e-03, 4.36086302e-04,\n",
       "        9.31683088e-04, 5.26079035e-04, 4.31410761e-04, 6.45236586e-04,\n",
       "        1.08758236e-03, 9.98704882e-02, 2.17066936e-03, 2.93010841e-04,\n",
       "        6.20022183e-04, 7.29622597e-04, 6.95305210e-04, 7.38435741e-04,\n",
       "        7.49011429e-04, 5.62054885e-04, 9.98395674e-04, 6.28094511e-04,\n",
       "        1.48775310e-03, 5.57782914e-03, 5.85664418e-04, 8.44661409e-04,\n",
       "        6.66988917e-04, 5.28794330e-04, 4.18277794e-04, 7.44130309e-04,\n",
       "        7.58745963e-04, 2.64730056e-04, 6.48593495e-04, 1.16702468e-03,\n",
       "        1.34685566e-03, 6.67109731e-04, 4.72331105e-04, 4.05084414e-04,\n",
       "        9.18834572e-04, 1.90140177e-02, 5.36802976e-03, 4.98501332e-04,\n",
       "        5.23957725e-03, 7.66585555e-04, 1.08094925e-03, 6.68469669e-04,\n",
       "        3.66237239e-04, 6.29657982e-03, 4.56372662e-04, 1.57194936e-03,\n",
       "        2.89592653e-03, 2.37394760e-03, 1.21697161e-03, 5.31789735e-04,\n",
       "        5.20165286e-04, 1.88447603e-03, 4.57009709e-03, 1.53767862e-03,\n",
       "        4.12901846e-04, 7.46954055e-04, 8.90071591e-04, 5.37156694e-04,\n",
       "        7.41357226e-04, 7.23907661e-04, 1.32551785e-03, 7.68161234e-04,\n",
       "        6.62853728e-04, 6.30568694e-04, 6.44121943e-04, 9.58350267e-04,\n",
       "        9.09068761e-04, 6.39562638e-04, 1.11822241e-03, 6.32611675e-04,\n",
       "        4.10756448e-04, 1.76283473e-03, 5.45379822e-04, 4.77149273e-04,\n",
       "        6.06404280e-04, 5.19392626e-04, 1.84160535e-03, 5.46597783e-04,\n",
       "        4.74040664e-04, 1.31240712e-03, 5.36915186e-04, 8.43078902e-04,\n",
       "        8.78524315e-04, 1.46223932e-03, 1.35611124e-03, 2.01513425e-03,\n",
       "        7.39461761e-04, 1.01816025e-03, 1.36496685e-03, 0.00000000e+00,\n",
       "        7.15254712e-04, 7.13177672e-04, 9.11125627e-04, 7.39731450e-04,\n",
       "        8.00808681e-04, 1.04907686e-03, 6.39033845e-04, 8.35591556e-04,\n",
       "        6.55419894e-04, 5.51841154e-04, 1.40814269e-03, 4.88713219e-04,\n",
       "        3.93552099e-04, 4.24188337e-04, 7.45784274e-04, 8.45442069e-04,\n",
       "        4.34098510e-04, 3.59936590e-04, 9.31405162e-04, 1.02556022e-03,\n",
       "        1.73396769e-03, 5.88187612e-04, 7.96612475e-04, 5.14604039e-04,\n",
       "        7.34389485e-04, 1.21587250e-03, 4.64703895e-04, 6.46489853e-04,\n",
       "        4.93038388e-04, 9.73337000e-04, 5.25850127e-04, 8.44805987e-04,\n",
       "        6.09782007e-04, 1.44594151e-03, 7.12648248e-04, 1.86094120e-03,\n",
       "        5.16549718e-04, 5.57156382e-04, 3.55484863e-04, 7.21008818e-04,\n",
       "        7.72134946e-04, 9.27856097e-04, 3.21548948e-03, 5.80035339e-04,\n",
       "        4.33205802e-03, 5.79182643e-04, 9.82992087e-04, 8.02995222e-04,\n",
       "        5.33872048e-04, 3.39518238e-04, 4.86565830e-04, 1.61721090e-04,\n",
       "        4.38689477e-04, 7.90391216e-04, 7.16457852e-04, 7.03123013e-03,\n",
       "        8.52245789e-04, 7.45786074e-04, 6.79954961e-04, 8.48749286e-04,\n",
       "        1.11178515e-03, 5.55944066e-04, 6.97876171e-04, 9.49795105e-04,\n",
       "        6.97387699e-04, 1.18176742e-03, 6.63569066e-04, 1.43109159e-03,\n",
       "        7.84458460e-04, 2.49684578e-04, 1.24860723e-03, 8.38326141e-04,\n",
       "        9.28067974e-04, 6.94174523e-04, 6.08050798e-03, 1.03620780e-03,\n",
       "        4.79902357e-04, 5.33498252e-04, 1.57355585e-03, 1.20320606e-03,\n",
       "        6.76432920e-04, 9.71991910e-04, 1.46365695e-03, 5.29134144e-03,\n",
       "        6.71001051e-04, 4.88114353e-04, 2.24224424e-03, 4.88101035e-04,\n",
       "        1.29342130e-03, 7.27796773e-04, 2.80041447e-03, 1.64068716e-03,\n",
       "        2.91481670e-03, 6.25980138e-04, 7.08405143e-04, 5.71636572e-04,\n",
       "        1.01300221e-03, 3.13760439e-03, 7.94366637e-04, 6.71132839e-04,\n",
       "        6.18805104e-04, 1.17604981e-01, 1.05026513e-03, 9.19169248e-04,\n",
       "        5.75643736e-04, 6.95484764e-04, 8.29211803e-04, 5.44417810e-03,\n",
       "        1.79948994e-03, 1.93814056e-03, 1.50041482e-03, 8.99443083e-05,\n",
       "        1.95099182e-03, 6.20558216e-04, 4.02708523e-04, 1.10467655e-03,\n",
       "        3.03285879e-04, 5.04168062e-04, 6.51250675e-04, 8.70171600e-04,\n",
       "        5.64796316e-04, 9.83187502e-04, 1.42992508e-03, 6.21868991e-04,\n",
       "        2.29084717e-03, 4.83302913e-04, 8.32339477e-04, 9.53548397e-04,\n",
       "        6.26420980e-04, 0.00000000e+00, 9.03049500e-04, 1.42647604e-03,\n",
       "        6.24462437e-04, 9.47718131e-04, 1.58272591e-03, 1.22628025e-03,\n",
       "        7.01684957e-04, 1.14496553e-03, 6.07927617e-04, 7.58727581e-04,\n",
       "        7.33564916e-04, 5.91617759e-04, 3.05820936e-03, 5.46070642e-04,\n",
       "        8.61134542e-04, 7.62602298e-04, 7.31879674e-04, 6.09339705e-04,\n",
       "        1.46911151e-01, 6.22113135e-03, 9.31428538e-04, 1.77091927e-03,\n",
       "        6.13647682e-04, 0.00000000e+00, 1.00011650e-03, 1.02276956e-03,\n",
       "        6.27603632e-03, 5.54202925e-04, 1.09876961e-03, 5.43925682e-03,\n",
       "        1.78695972e-03, 6.34912240e-04, 5.21653486e-04, 5.56933280e-04,\n",
       "        8.13025740e-04, 7.82315141e-04, 1.56413375e-03, 5.16292977e-04,\n",
       "        6.80670951e-04, 7.33139557e-04, 8.67100350e-03, 1.02354586e-03,\n",
       "        1.01376130e-03, 3.57491490e-04, 5.75143206e-04, 6.80299462e-04,\n",
       "        8.09367244e-04, 7.22152312e-04, 1.30163327e-03, 7.49021390e-04,\n",
       "        2.09090577e-03, 6.20932116e-04, 6.39668759e-04, 8.85488103e-03,\n",
       "        5.23517404e-04, 6.59241076e-04, 9.43283682e-04, 8.03418452e-04,\n",
       "        1.22770182e-03, 1.20342979e-03, 2.24273499e-03, 1.43471476e-03,\n",
       "        1.04587733e-03, 6.13956824e-04, 2.84740538e-04, 1.10425366e-03,\n",
       "        7.88149397e-04, 9.06002456e-04, 8.46962700e-04, 5.39370647e-04,\n",
       "        6.71501165e-04, 6.22388983e-04, 4.32413939e-04, 3.74023813e-04,\n",
       "        6.05473689e-04, 4.67328804e-04, 9.78564408e-04, 0.00000000e+00,\n",
       "        9.11195831e-04, 7.66215804e-04, 4.32553117e-03, 6.43073946e-04]])"
      ]
     },
     "execution_count": 11,
     "metadata": {},
     "output_type": "execute_result"
    }
   ],
   "source": [
    "result#[0] >= 0.3"
   ]
  },
  {
   "cell_type": "code",
   "execution_count": 12,
   "metadata": {},
   "outputs": [
    {
     "data": {
      "text/plain": [
       "array(['', '.net', '.net-core', 'aggregate', 'ajax', 'algorithm',\n",
       "       'amazon-web-services', 'android', 'android-layout',\n",
       "       'android-studio', 'angular', 'angularjs', 'animation', 'apache',\n",
       "       'apache-spark', 'apache-spark-sql', 'api', 'architecture',\n",
       "       'arguments', 'arraylist', 'arrays', 'arrow-functions', 'asp.net',\n",
       "       'asp.net-core', 'asp.net-mvc', 'asp.net-web-api', 'assembly',\n",
       "       'async-await', 'asynchronous', 'audio', 'authentication', 'awk',\n",
       "       'axios', 'azure', 'bash', 'batch-file', 'beautifulsoup', 'boolean',\n",
       "       'bootstrap-4', 'button', 'c', 'c#', 'c++', 'c++11', 'c++14',\n",
       "       'c++17', 'canvas', 'casting', 'char', 'class', 'cmake', 'cmd',\n",
       "       'codeigniter', 'coding-style', 'collections', 'command-line',\n",
       "       'compiler-errors', 'conditional-statements', 'constructor', 'cors',\n",
       "       'count', 'css', 'css-grid', 'css-selectors', 'csv', 'curl', 'dart',\n",
       "       'data-structures', 'data.table', 'database', 'database-design',\n",
       "       'dataframe', 'date', 'datetime', 'debugging', 'deep-learning',\n",
       "       'delphi', 'design-patterns', 'dictionary', 'django', 'docker',\n",
       "       'documentation', 'dom', 'dplyr', 'duplicates', 'eclipse',\n",
       "       'ecmascript-6', 'email', 'encryption', 'entity-framework',\n",
       "       'entity-framework-core', 'enums', 'error-handling', 'es6-promise',\n",
       "       'events', 'excel', 'exception', 'express', 'file', 'filter',\n",
       "       'firebase', 'firebase-authentication',\n",
       "       'firebase-realtime-database', 'flask', 'flexbox', 'floating-point',\n",
       "       'flutter', 'for-loop', 'foreach', 'forms', 'frameworks', 'ftp',\n",
       "       'function', 'functional-programming', 'gcc', 'generics', 'ggplot2',\n",
       "       'git', 'github', 'go', 'google-apps-script', 'google-chrome',\n",
       "       'google-cloud-firestore', 'google-cloud-functions',\n",
       "       'google-cloud-platform', 'google-maps', 'google-sheets', 'gradle',\n",
       "       'greatest-n-per-group', 'grep', 'group-by', 'hashmap', 'haskell',\n",
       "       'hibernate', 'html', 'http', 'if-statement', 'image',\n",
       "       'image-processing', 'indexing', 'inheritance', 'input', 'int',\n",
       "       'intellij-idea', 'interface', 'ionic-framework', 'ios', 'iphone',\n",
       "       'iterator', 'java', 'java-8', 'java-stream', 'javafx',\n",
       "       'javascript', 'javascript-objects', 'jdbc', 'join', 'jquery',\n",
       "       'jsf', 'json', 'json.net', 'jsp', 'junit', 'jupyter-notebook',\n",
       "       'keras', 'kotlin', 'kubernetes', 'lambda', 'language-agnostic',\n",
       "       'language-lawyer', 'laravel', 'laravel-5', 'linked-list', 'linq',\n",
       "       'linux', 'list', 'list-comprehension', 'loops', 'machine-learning',\n",
       "       'macos', 'math', 'matlab', 'matplotlib', 'matrix', 'maven',\n",
       "       'memory', 'merge', 'methods', 'model-view-controller', 'mongodb',\n",
       "       'mongoose', 'ms-access', 'multidimensional-array',\n",
       "       'multithreading', 'mysql', 'mysqli', 'networking',\n",
       "       'neural-network', 'node.js', 'npm', 'numpy', 'object',\n",
       "       'objective-c', 'oop', 'opencv', 'opengl', 'optimization', 'oracle',\n",
       "       'pandas', 'pandas-groupby', 'parameters', 'parsing', 'pdf', 'pdo',\n",
       "       'performance', 'perl', 'php', 'pip', 'pivot', 'plot', 'pointers',\n",
       "       'postgresql', 'powershell', 'printf', 'printing',\n",
       "       'project-management', 'promise', 'pygame', 'pyqt', 'pyqt5',\n",
       "       'pyspark', 'python', 'python-2.7', 'python-3.x', 'qt', 'r',\n",
       "       'random', 'react-native', 'reactjs', 'recursion', 'reference',\n",
       "       'reflection', 'regex', 'replace', 'reshape', 'rest', 'ruby',\n",
       "       'ruby-on-rails', 'rust', 'sass', 'scala', 'scikit-learn', 'scope',\n",
       "       'scripting', 'search', 'security', 'sed', 'select', 'selenium',\n",
       "       'selenium-webdriver', 'serialization', 'server', 'servlets', 'set',\n",
       "       'shell', 'sockets', 'sorting', 'split', 'spring', 'spring-boot',\n",
       "       'spring-mvc', 'spring-security', 'sql', 'sql-server', 'sqlalchemy',\n",
       "       'sqlite', 'ssh', 'ssl', 'static', 'stl', 'string', 'struct', 'svg',\n",
       "       'swift', 'swiftui', 'swing', 'switch-statement', 'syntax',\n",
       "       'templates', 'tensorflow', 'testing', 'text', 'tidyr', 'tidyverse',\n",
       "       'time', 'tkinter', 'tsql', 'tuples', 'twitter-bootstrap',\n",
       "       'type-conversion', 'types', 'typescript', 'ubuntu', 'unit-testing',\n",
       "       'unity3d', 'unix', 'url', 'user-interface', 'validation',\n",
       "       'variables', 'vb.net', 'vba', 'vbscript', 'vector',\n",
       "       'version-control', 'vim', 'visual-c++', 'visual-studio',\n",
       "       'visual-studio-code', 'vue.js', 'web', 'web-applications',\n",
       "       'web-scraping', 'web-services', 'while-loop', 'winapi', 'windows',\n",
       "       'winforms', 'woocommerce', 'wordpress', 'wpf', 'x86', 'xamarin',\n",
       "       'xaml', 'xcode', 'xml'], dtype=object)"
      ]
     },
     "execution_count": 12,
     "metadata": {},
     "output_type": "execute_result"
    }
   ],
   "source": [
    "mb.classes_"
   ]
  },
  {
   "cell_type": "code",
   "execution_count": 13,
   "metadata": {},
   "outputs": [
    {
     "data": {
      "text/plain": [
       "'networking'"
      ]
     },
     "execution_count": 13,
     "metadata": {},
     "output_type": "execute_result"
    }
   ],
   "source": [
    "mb.classes_[196]"
   ]
  },
  {
   "cell_type": "code",
   "execution_count": null,
   "metadata": {},
   "outputs": [],
   "source": []
  }
 ],
 "metadata": {
  "kernelspec": {
   "display_name": "Python 3",
   "language": "python",
   "name": "python3"
  },
  "language_info": {
   "codemirror_mode": {
    "name": "ipython",
    "version": 3
   },
   "file_extension": ".py",
   "mimetype": "text/x-python",
   "name": "python",
   "nbconvert_exporter": "python",
   "pygments_lexer": "ipython3",
   "version": "3.8.3"
  }
 },
 "nbformat": 4,
 "nbformat_minor": 4
}
