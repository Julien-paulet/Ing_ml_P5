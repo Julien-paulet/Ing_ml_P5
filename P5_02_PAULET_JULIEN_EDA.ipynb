{
 "cells": [
  {
   "cell_type": "code",
   "execution_count": 1,
   "metadata": {},
   "outputs": [],
   "source": [
    "import pandas as pd\n",
    "import numpy as np\n",
    "import nltk\n",
    "import sklearn\n",
    "import string\n",
    "import re\n",
    "from collections import defaultdict\n",
    "import matplotlib.pyplot as plt\n",
    "import seaborn as sns\n",
    "import matplotlib.pyplot as plt\n",
    "import seaborn as sns\n",
    "from lxml import html\n",
    "import nltk\n",
    "from nltk.stem.snowball import EnglishStemmer\n",
    "from sklearn.feature_extraction.text import TfidfVectorizer\n",
    "from sklearn.feature_extraction.text import CountVectorizer"
   ]
  },
  {
   "cell_type": "markdown",
   "metadata": {},
   "source": [
    "# Loading Data"
   ]
  },
  {
   "cell_type": "code",
   "execution_count": 2,
   "metadata": {},
   "outputs": [],
   "source": [
    "data = pd.read_csv('QueryResults.csv')\n",
    "data = data.set_index('Id')"
   ]
  },
  {
   "cell_type": "code",
   "execution_count": 3,
   "metadata": {},
   "outputs": [
    {
     "data": {
      "text/html": [
       "<div>\n",
       "<style scoped>\n",
       "    .dataframe tbody tr th:only-of-type {\n",
       "        vertical-align: middle;\n",
       "    }\n",
       "\n",
       "    .dataframe tbody tr th {\n",
       "        vertical-align: top;\n",
       "    }\n",
       "\n",
       "    .dataframe thead th {\n",
       "        text-align: right;\n",
       "    }\n",
       "</style>\n",
       "<table border=\"1\" class=\"dataframe\">\n",
       "  <thead>\n",
       "    <tr style=\"text-align: right;\">\n",
       "      <th></th>\n",
       "      <th>PostTypeId</th>\n",
       "      <th>AcceptedAnswerId</th>\n",
       "      <th>ParentId</th>\n",
       "      <th>CreationDate</th>\n",
       "      <th>DeletionDate</th>\n",
       "      <th>Score</th>\n",
       "      <th>ViewCount</th>\n",
       "      <th>Body</th>\n",
       "      <th>OwnerUserId</th>\n",
       "      <th>OwnerDisplayName</th>\n",
       "      <th>...</th>\n",
       "      <th>LastEditDate</th>\n",
       "      <th>LastActivityDate</th>\n",
       "      <th>Title</th>\n",
       "      <th>Tags</th>\n",
       "      <th>AnswerCount</th>\n",
       "      <th>CommentCount</th>\n",
       "      <th>FavoriteCount</th>\n",
       "      <th>ClosedDate</th>\n",
       "      <th>CommunityOwnedDate</th>\n",
       "      <th>ContentLicense</th>\n",
       "    </tr>\n",
       "    <tr>\n",
       "      <th>Id</th>\n",
       "      <th></th>\n",
       "      <th></th>\n",
       "      <th></th>\n",
       "      <th></th>\n",
       "      <th></th>\n",
       "      <th></th>\n",
       "      <th></th>\n",
       "      <th></th>\n",
       "      <th></th>\n",
       "      <th></th>\n",
       "      <th></th>\n",
       "      <th></th>\n",
       "      <th></th>\n",
       "      <th></th>\n",
       "      <th></th>\n",
       "      <th></th>\n",
       "      <th></th>\n",
       "      <th></th>\n",
       "      <th></th>\n",
       "      <th></th>\n",
       "      <th></th>\n",
       "    </tr>\n",
       "  </thead>\n",
       "  <tbody>\n",
       "    <tr>\n",
       "      <th>56433394</th>\n",
       "      <td>1</td>\n",
       "      <td>56433462</td>\n",
       "      <td>NaN</td>\n",
       "      <td>2019-06-03 19:23:03</td>\n",
       "      <td>NaN</td>\n",
       "      <td>-1</td>\n",
       "      <td>34</td>\n",
       "      <td>&lt;p&gt;The below code only seems to work on the fi...</td>\n",
       "      <td>11162483.0</td>\n",
       "      <td>NaN</td>\n",
       "      <td>...</td>\n",
       "      <td>2019-06-03 20:23:16</td>\n",
       "      <td>2019-06-03 22:47:37</td>\n",
       "      <td>Macro only running through first result</td>\n",
       "      <td>&lt;excel&gt;&lt;vba&gt;</td>\n",
       "      <td>1</td>\n",
       "      <td>2</td>\n",
       "      <td>NaN</td>\n",
       "      <td>2019-06-03 22:45:47</td>\n",
       "      <td>NaN</td>\n",
       "      <td>CC BY-SA 4.0</td>\n",
       "    </tr>\n",
       "    <tr>\n",
       "      <th>56448457</th>\n",
       "      <td>1</td>\n",
       "      <td>56448528</td>\n",
       "      <td>NaN</td>\n",
       "      <td>2019-06-04 17:08:03</td>\n",
       "      <td>NaN</td>\n",
       "      <td>-2</td>\n",
       "      <td>142</td>\n",
       "      <td>&lt;p&gt;I have two questions:&lt;/p&gt;\\n\\n&lt;ol&gt;\\n&lt;li&gt;&lt;p&gt;I...</td>\n",
       "      <td>7057642.0</td>\n",
       "      <td>NaN</td>\n",
       "      <td>...</td>\n",
       "      <td>2019-06-04 21:07:06</td>\n",
       "      <td>2019-07-04 19:20:20</td>\n",
       "      <td>Set limitation on gap tolerance and run time</td>\n",
       "      <td>&lt;csv&gt;&lt;optimization&gt;&lt;runtime&gt;&lt;cplex&gt;&lt;ibm-ilog-opl&gt;</td>\n",
       "      <td>1</td>\n",
       "      <td>0</td>\n",
       "      <td>NaN</td>\n",
       "      <td>2019-06-05 02:12:22</td>\n",
       "      <td>NaN</td>\n",
       "      <td>CC BY-SA 4.0</td>\n",
       "    </tr>\n",
       "    <tr>\n",
       "      <th>48320518</th>\n",
       "      <td>1</td>\n",
       "      <td>48321008</td>\n",
       "      <td>NaN</td>\n",
       "      <td>2018-01-18 11:42:36</td>\n",
       "      <td>NaN</td>\n",
       "      <td>0</td>\n",
       "      <td>595</td>\n",
       "      <td>&lt;p&gt;I am trying to connect Sql server and MySql...</td>\n",
       "      <td>7428446.0</td>\n",
       "      <td>NaN</td>\n",
       "      <td>...</td>\n",
       "      <td>2018-01-18 12:13:28</td>\n",
       "      <td>2018-01-18 13:53:02</td>\n",
       "      <td>Connect two different Database with one applic...</td>\n",
       "      <td>&lt;mysql&gt;&lt;.net&gt;&lt;sql-server&gt;</td>\n",
       "      <td>1</td>\n",
       "      <td>3</td>\n",
       "      <td>NaN</td>\n",
       "      <td>2018-01-18 15:21:45</td>\n",
       "      <td>NaN</td>\n",
       "      <td>CC BY-SA 3.0</td>\n",
       "    </tr>\n",
       "    <tr>\n",
       "      <th>48320543</th>\n",
       "      <td>1</td>\n",
       "      <td>48320722</td>\n",
       "      <td>NaN</td>\n",
       "      <td>2018-01-18 11:44:25</td>\n",
       "      <td>NaN</td>\n",
       "      <td>4</td>\n",
       "      <td>5737</td>\n",
       "      <td>&lt;p&gt;I use angular 2 and bootstrap 4, There is a...</td>\n",
       "      <td>2803344.0</td>\n",
       "      <td>NaN</td>\n",
       "      <td>...</td>\n",
       "      <td>NaN</td>\n",
       "      <td>2019-09-24 05:33:43</td>\n",
       "      <td>bootstrap 4 navbar disappears when resizing sc...</td>\n",
       "      <td>&lt;html&gt;&lt;angular&gt;&lt;bootstrap-4&gt;</td>\n",
       "      <td>3</td>\n",
       "      <td>0</td>\n",
       "      <td>NaN</td>\n",
       "      <td>2018-03-16 19:35:06</td>\n",
       "      <td>NaN</td>\n",
       "      <td>CC BY-SA 3.0</td>\n",
       "    </tr>\n",
       "    <tr>\n",
       "      <th>48320558</th>\n",
       "      <td>1</td>\n",
       "      <td>48321030</td>\n",
       "      <td>NaN</td>\n",
       "      <td>2018-01-18 11:44:57</td>\n",
       "      <td>NaN</td>\n",
       "      <td>0</td>\n",
       "      <td>196</td>\n",
       "      <td>&lt;p&gt;I have a xml generated from SharePoint and ...</td>\n",
       "      <td>777551.0</td>\n",
       "      <td>NaN</td>\n",
       "      <td>...</td>\n",
       "      <td>NaN</td>\n",
       "      <td>2018-01-18 12:10:25</td>\n",
       "      <td>xml transform XSLT with namespaces</td>\n",
       "      <td>&lt;xml&gt;&lt;xslt&gt;</td>\n",
       "      <td>1</td>\n",
       "      <td>0</td>\n",
       "      <td>NaN</td>\n",
       "      <td>2018-01-18 16:35:29</td>\n",
       "      <td>NaN</td>\n",
       "      <td>CC BY-SA 3.0</td>\n",
       "    </tr>\n",
       "  </tbody>\n",
       "</table>\n",
       "<p>5 rows × 22 columns</p>\n",
       "</div>"
      ],
      "text/plain": [
       "          PostTypeId  AcceptedAnswerId  ParentId         CreationDate  \\\n",
       "Id                                                                      \n",
       "56433394           1          56433462       NaN  2019-06-03 19:23:03   \n",
       "56448457           1          56448528       NaN  2019-06-04 17:08:03   \n",
       "48320518           1          48321008       NaN  2018-01-18 11:42:36   \n",
       "48320543           1          48320722       NaN  2018-01-18 11:44:25   \n",
       "48320558           1          48321030       NaN  2018-01-18 11:44:57   \n",
       "\n",
       "          DeletionDate  Score  ViewCount  \\\n",
       "Id                                         \n",
       "56433394           NaN     -1         34   \n",
       "56448457           NaN     -2        142   \n",
       "48320518           NaN      0        595   \n",
       "48320543           NaN      4       5737   \n",
       "48320558           NaN      0        196   \n",
       "\n",
       "                                                       Body  OwnerUserId  \\\n",
       "Id                                                                         \n",
       "56433394  <p>The below code only seems to work on the fi...   11162483.0   \n",
       "56448457  <p>I have two questions:</p>\\n\\n<ol>\\n<li><p>I...    7057642.0   \n",
       "48320518  <p>I am trying to connect Sql server and MySql...    7428446.0   \n",
       "48320543  <p>I use angular 2 and bootstrap 4, There is a...    2803344.0   \n",
       "48320558  <p>I have a xml generated from SharePoint and ...     777551.0   \n",
       "\n",
       "         OwnerDisplayName  ...         LastEditDate     LastActivityDate  \\\n",
       "Id                         ...                                             \n",
       "56433394              NaN  ...  2019-06-03 20:23:16  2019-06-03 22:47:37   \n",
       "56448457              NaN  ...  2019-06-04 21:07:06  2019-07-04 19:20:20   \n",
       "48320518              NaN  ...  2018-01-18 12:13:28  2018-01-18 13:53:02   \n",
       "48320543              NaN  ...                  NaN  2019-09-24 05:33:43   \n",
       "48320558              NaN  ...                  NaN  2018-01-18 12:10:25   \n",
       "\n",
       "                                                      Title  \\\n",
       "Id                                                            \n",
       "56433394            Macro only running through first result   \n",
       "56448457       Set limitation on gap tolerance and run time   \n",
       "48320518  Connect two different Database with one applic...   \n",
       "48320543  bootstrap 4 navbar disappears when resizing sc...   \n",
       "48320558                 xml transform XSLT with namespaces   \n",
       "\n",
       "                                                       Tags AnswerCount  \\\n",
       "Id                                                                        \n",
       "56433394                                       <excel><vba>           1   \n",
       "56448457  <csv><optimization><runtime><cplex><ibm-ilog-opl>           1   \n",
       "48320518                          <mysql><.net><sql-server>           1   \n",
       "48320543                       <html><angular><bootstrap-4>           3   \n",
       "48320558                                        <xml><xslt>           1   \n",
       "\n",
       "         CommentCount  FavoriteCount           ClosedDate  CommunityOwnedDate  \\\n",
       "Id                                                                              \n",
       "56433394            2            NaN  2019-06-03 22:45:47                 NaN   \n",
       "56448457            0            NaN  2019-06-05 02:12:22                 NaN   \n",
       "48320518            3            NaN  2018-01-18 15:21:45                 NaN   \n",
       "48320543            0            NaN  2018-03-16 19:35:06                 NaN   \n",
       "48320558            0            NaN  2018-01-18 16:35:29                 NaN   \n",
       "\n",
       "         ContentLicense  \n",
       "Id                       \n",
       "56433394   CC BY-SA 4.0  \n",
       "56448457   CC BY-SA 4.0  \n",
       "48320518   CC BY-SA 3.0  \n",
       "48320543   CC BY-SA 3.0  \n",
       "48320558   CC BY-SA 3.0  \n",
       "\n",
       "[5 rows x 22 columns]"
      ]
     },
     "execution_count": 3,
     "metadata": {},
     "output_type": "execute_result"
    }
   ],
   "source": [
    "data.head()"
   ]
  },
  {
   "cell_type": "markdown",
   "metadata": {},
   "source": [
    "Let's take only values that have a score >= 0 to be sure we don't have bad question (implying bad key words)"
   ]
  },
  {
   "cell_type": "code",
   "execution_count": 4,
   "metadata": {},
   "outputs": [],
   "source": [
    "data = data[data['Score'] >= 0]"
   ]
  },
  {
   "cell_type": "markdown",
   "metadata": {},
   "source": [
    "# Working on the tags"
   ]
  },
  {
   "cell_type": "markdown",
   "metadata": {},
   "source": [
    "## Cleaning"
   ]
  },
  {
   "cell_type": "code",
   "execution_count": 5,
   "metadata": {},
   "outputs": [],
   "source": [
    "tags = data[['Tags']].copy()\n",
    "# Let's first remplace the '<'\n",
    "tags['Tags'].replace('<', '', regex=True, inplace=True)\n",
    "\n",
    "# We then split with pattern '>'\n",
    "tags['preprocessedTags'] = tags['Tags'].str.split(pat='>')\n",
    "tags['Tags_'] = [' '.join(map(str, l)) for l in tags[\"preprocessedTags\"]]"
   ]
  },
  {
   "cell_type": "markdown",
   "metadata": {},
   "source": [
    "## Analysis"
   ]
  },
  {
   "cell_type": "markdown",
   "metadata": {},
   "source": [
    "Let's first analyse the tags, see the repartition of nbr of tags per question, and the number of unique tags"
   ]
  },
  {
   "cell_type": "code",
   "execution_count": 6,
   "metadata": {},
   "outputs": [],
   "source": [
    "tagsAnalysis = tags.copy()\n",
    "tagsAnalysis['Tags'] = [' '.join(map(str, l)) for l in tagsAnalysis[\"preprocessedTags\"]]\n",
    "tagsAnalysis[\"tag_count\"] = tagsAnalysis[\"Tags\"].apply(lambda x : len(x.split()))"
   ]
  },
  {
   "cell_type": "code",
   "execution_count": 7,
   "metadata": {},
   "outputs": [
    {
     "name": "stdout",
     "output_type": "stream",
     "text": [
      "Maximum number of tags in a question:  5\n",
      "Minimum number of tags in a question:  1\n",
      "Average number of tags in a question:  2.7814688508617014\n"
     ]
    }
   ],
   "source": [
    "print( \"Maximum number of tags in a question: \", tagsAnalysis[\"tag_count\"].max())\n",
    "print( \"Minimum number of tags in a question: \", tagsAnalysis[\"tag_count\"].min())\n",
    "print( \"Average number of tags in a question: \", tagsAnalysis[\"tag_count\"].mean())"
   ]
  },
  {
   "cell_type": "code",
   "execution_count": 8,
   "metadata": {},
   "outputs": [
    {
     "name": "stderr",
     "output_type": "stream",
     "text": [
      "C:\\Users\\jpaul\\anaconda3\\lib\\site-packages\\seaborn\\_decorators.py:36: FutureWarning: Pass the following variable as a keyword arg: x. From version 0.12, the only valid positional argument will be `data`, and passing other arguments without an explicit keyword will result in an error or misinterpretation.\n",
      "  warnings.warn(\n"
     ]
    },
    {
     "data": {
      "text/plain": [
       "[]"
      ]
     },
     "execution_count": 8,
     "metadata": {},
     "output_type": "execute_result"
    },
    {
     "data": {
      "image/png": "[encoded data removed]",
      "text/plain": [
       "<Figure size 432x288 with 1 Axes>"
      ]
     },
     "metadata": {
      "needs_background": "light"
     },
     "output_type": "display_data"
    }
   ],
   "source": [
    "sns.countplot(tagsAnalysis[\"tag_count\"])\n",
    "plt.title(\"Number of tags in questions \")\n",
    "plt.xlabel(\"Number of Tags\")\n",
    "plt.ylabel(\"Frequency\")\n",
    "plt.plot()"
   ]
  },
  {
   "cell_type": "markdown",
   "metadata": {},
   "source": [
    "Let's see how many unique tags we have in our DataFrame"
   ]
  },
  {
   "cell_type": "code",
   "execution_count": 9,
   "metadata": {},
   "outputs": [
    {
     "name": "stdout",
     "output_type": "stream",
     "text": [
      "Number of unique tags:  7990\n"
     ]
    }
   ],
   "source": [
    "uniqueTags = [item for sublist in tagsAnalysis['preprocessedTags'] for item in sublist]\n",
    "multipleTags = uniqueTags.copy()\n",
    "uniqueTags = list(dict.fromkeys(uniqueTags))\n",
    "uniqueTags.remove('')\n",
    "print(\"Number of unique tags: \",len(uniqueTags))"
   ]
  },
  {
   "cell_type": "code",
   "execution_count": 10,
   "metadata": {},
   "outputs": [],
   "source": [
    "multipleTags_df = pd.DataFrame(multipleTags, columns=['Tags'])\n",
    "multipleTags_df = multipleTags_df[multipleTags_df['Tags'] != '']\n",
    "multipleTags_df['Count'] = 1\n",
    "multipleTags_df = multipleTags_df.groupby('Tags').count()"
   ]
  },
  {
   "cell_type": "code",
   "execution_count": 11,
   "metadata": {},
   "outputs": [
    {
     "data": {
      "text/html": [
       "<div>\n",
       "<style scoped>\n",
       "    .dataframe tbody tr th:only-of-type {\n",
       "        vertical-align: middle;\n",
       "    }\n",
       "\n",
       "    .dataframe tbody tr th {\n",
       "        vertical-align: top;\n",
       "    }\n",
       "\n",
       "    .dataframe thead th {\n",
       "        text-align: right;\n",
       "    }\n",
       "</style>\n",
       "<table border=\"1\" class=\"dataframe\">\n",
       "  <thead>\n",
       "    <tr style=\"text-align: right;\">\n",
       "      <th></th>\n",
       "      <th>Count</th>\n",
       "    </tr>\n",
       "    <tr>\n",
       "      <th>Tags</th>\n",
       "      <th></th>\n",
       "    </tr>\n",
       "  </thead>\n",
       "  <tbody>\n",
       "    <tr>\n",
       "      <th>python</th>\n",
       "      <td>5297</td>\n",
       "    </tr>\n",
       "    <tr>\n",
       "      <th>javascript</th>\n",
       "      <td>4419</td>\n",
       "    </tr>\n",
       "    <tr>\n",
       "      <th>java</th>\n",
       "      <td>3366</td>\n",
       "    </tr>\n",
       "    <tr>\n",
       "      <th>html</th>\n",
       "      <td>2214</td>\n",
       "    </tr>\n",
       "    <tr>\n",
       "      <th>c#</th>\n",
       "      <td>2094</td>\n",
       "    </tr>\n",
       "  </tbody>\n",
       "</table>\n",
       "</div>"
      ],
      "text/plain": [
       "            Count\n",
       "Tags             \n",
       "python       5297\n",
       "javascript   4419\n",
       "java         3366\n",
       "html         2214\n",
       "c#           2094"
      ]
     },
     "execution_count": 11,
     "metadata": {},
     "output_type": "execute_result"
    }
   ],
   "source": [
    "multipleTags_sorted = multipleTags_df.sort_values(by='Count', ascending=False)\n",
    "multipleTags_sorted.head()"
   ]
  },
  {
   "cell_type": "markdown",
   "metadata": {},
   "source": [
    "As there is many tags that appears only few times, let's see how much we have that appears more than 30 times"
   ]
  },
  {
   "cell_type": "code",
   "execution_count": 12,
   "metadata": {},
   "outputs": [
    {
     "name": "stdout",
     "output_type": "stream",
     "text": [
      "Number of tags that appears more than 50 times:  216\n"
     ]
    }
   ],
   "source": [
    "print(\"Number of tags that appears more than 50 times: \", len(multipleTags_df[multipleTags_df['Count'] > 50]))"
   ]
  },
  {
   "cell_type": "markdown",
   "metadata": {},
   "source": [
    "Let's see the 20 most common tags"
   ]
  },
  {
   "cell_type": "code",
   "execution_count": 13,
   "metadata": {},
   "outputs": [
    {
     "data": {
      "image/png": "[encoded data removed]",
      "text/plain": [
       "<Figure size 432x288 with 1 Axes>"
      ]
     },
     "metadata": {
      "needs_background": "light"
     },
     "output_type": "display_data"
    }
   ],
   "source": [
    "i=np.arange(20)\n",
    "multipleTags_sorted.head(20).plot(kind='bar')\n",
    "plt.title('Frequency of top 20 tags')\n",
    "plt.xticks(i, multipleTags_sorted.head(20).index)\n",
    "plt.xlabel('Tags')\n",
    "plt.ylabel('Counts')\n",
    "plt.show()"
   ]
  },
  {
   "cell_type": "markdown",
   "metadata": {},
   "source": [
    "## Keeping only the common tags for modeling"
   ]
  },
  {
   "cell_type": "markdown",
   "metadata": {},
   "source": [
    "The goal of this section is to clean the tags inside the Dataset ; We'll keep only the tags that appears more than 100 times"
   ]
  },
  {
   "cell_type": "code",
   "execution_count": 14,
   "metadata": {},
   "outputs": [],
   "source": [
    "tagsToKeep = multipleTags_df[multipleTags_df['Count'] > 50].reset_index().drop(columns=['Count'])['Tags']"
   ]
  },
  {
   "cell_type": "code",
   "execution_count": 15,
   "metadata": {},
   "outputs": [
    {
     "data": {
      "text/html": [
       "<div>\n",
       "<style scoped>\n",
       "    .dataframe tbody tr th:only-of-type {\n",
       "        vertical-align: middle;\n",
       "    }\n",
       "\n",
       "    .dataframe tbody tr th {\n",
       "        vertical-align: top;\n",
       "    }\n",
       "\n",
       "    .dataframe thead th {\n",
       "        text-align: right;\n",
       "    }\n",
       "</style>\n",
       "<table border=\"1\" class=\"dataframe\">\n",
       "  <thead>\n",
       "    <tr style=\"text-align: right;\">\n",
       "      <th></th>\n",
       "      <th>Count</th>\n",
       "    </tr>\n",
       "    <tr>\n",
       "      <th>Tags</th>\n",
       "      <th></th>\n",
       "    </tr>\n",
       "  </thead>\n",
       "  <tbody>\n",
       "    <tr>\n",
       "      <th>reference</th>\n",
       "      <td>51</td>\n",
       "    </tr>\n",
       "    <tr>\n",
       "      <th>tensorflow</th>\n",
       "      <td>52</td>\n",
       "    </tr>\n",
       "    <tr>\n",
       "      <th>c++17</th>\n",
       "      <td>52</td>\n",
       "    </tr>\n",
       "    <tr>\n",
       "      <th>while-loop</th>\n",
       "      <td>52</td>\n",
       "    </tr>\n",
       "    <tr>\n",
       "      <th>sockets</th>\n",
       "      <td>52</td>\n",
       "    </tr>\n",
       "    <tr>\n",
       "      <th>...</th>\n",
       "      <td>...</td>\n",
       "    </tr>\n",
       "    <tr>\n",
       "      <th>c#</th>\n",
       "      <td>2094</td>\n",
       "    </tr>\n",
       "    <tr>\n",
       "      <th>html</th>\n",
       "      <td>2214</td>\n",
       "    </tr>\n",
       "    <tr>\n",
       "      <th>java</th>\n",
       "      <td>3366</td>\n",
       "    </tr>\n",
       "    <tr>\n",
       "      <th>javascript</th>\n",
       "      <td>4419</td>\n",
       "    </tr>\n",
       "    <tr>\n",
       "      <th>python</th>\n",
       "      <td>5297</td>\n",
       "    </tr>\n",
       "  </tbody>\n",
       "</table>\n",
       "<p>216 rows × 1 columns</p>\n",
       "</div>"
      ],
      "text/plain": [
       "            Count\n",
       "Tags             \n",
       "reference      51\n",
       "tensorflow     52\n",
       "c++17          52\n",
       "while-loop     52\n",
       "sockets        52\n",
       "...           ...\n",
       "c#           2094\n",
       "html         2214\n",
       "java         3366\n",
       "javascript   4419\n",
       "python       5297\n",
       "\n",
       "[216 rows x 1 columns]"
      ]
     },
     "execution_count": 15,
     "metadata": {},
     "output_type": "execute_result"
    }
   ],
   "source": [
    "multipleTags_df[multipleTags_df['Count'] > 50].sort_values(ascending=True, by='Count')"
   ]
  },
  {
   "cell_type": "code",
   "execution_count": 16,
   "metadata": {},
   "outputs": [],
   "source": [
    "# First we merge the preprocessedTags into the main df\n",
    "dataTags = pd.merge(data, tags, left_index=True, right_index=True, how='inner')"
   ]
  },
  {
   "cell_type": "code",
   "execution_count": 17,
   "metadata": {},
   "outputs": [],
   "source": [
    "# Then we keep only the question where one of the tagsToKeep is in\n",
    "realTags = []\n",
    "for ind in dataTags['preprocessedTags']:\n",
    "    t = []\n",
    "    for val in ind:\n",
    "        if val in tagsToKeep.values:\n",
    "            t.append(val)\n",
    "    realTags.append(t)\n",
    "    \n",
    "realTags = pd.DataFrame({\"preprocessedTags\": realTags})\n",
    "realTags.index = dataTags.index"
   ]
  },
  {
   "cell_type": "code",
   "execution_count": 18,
   "metadata": {},
   "outputs": [],
   "source": [
    "dataTags = dataTags.drop(columns=['preprocessedTags'])\n",
    "dataTags = pd.merge(dataTags, realTags, left_index=True, right_index=True, how='inner')"
   ]
  },
  {
   "cell_type": "code",
   "execution_count": 19,
   "metadata": {},
   "outputs": [],
   "source": [
    "preprocessed_df = dataTags[['Body', 'Tags_']]"
   ]
  },
  {
   "cell_type": "markdown",
   "metadata": {},
   "source": [
    "# Description"
   ]
  },
  {
   "cell_type": "markdown",
   "metadata": {},
   "source": [
    "## Cleaning"
   ]
  },
  {
   "cell_type": "code",
   "execution_count": 20,
   "metadata": {},
   "outputs": [],
   "source": [
    "description = dataTags[['Title','Body']].copy()\n",
    "# Let's add the title to the body\n",
    "description['Body'] = description[['Title','Body']].apply(lambda x: ' '.join(x), axis=1)\n",
    "description['Body'] = description[['Title','Body']].apply(lambda x: ' '.join(x), axis=1)\n",
    "description = description[['Body']]"
   ]
  },
  {
   "cell_type": "markdown",
   "metadata": {},
   "source": [
    "### HTML tags"
   ]
  },
  {
   "cell_type": "code",
   "execution_count": 21,
   "metadata": {},
   "outputs": [],
   "source": [
    "parser = lambda x: html.fromstring(x).text_content()\n",
    "description['Body_Cleaned'] = list(map(parser, description['Body']))\n",
    "description['Body_Cleaned'].replace(r'\\n', '', regex=True, inplace=True)\n",
    "# There is still some html tags, let's remove them with a regex\n",
    "TAG_RE = re.compile(r'<[^>]+>')\n",
    "tags_re = lambda x: TAG_RE.sub('', x)\n",
    "description['Body_Cleaned'] = list(map(tags_re, description['Body_Cleaned']))"
   ]
  },
  {
   "cell_type": "code",
   "execution_count": 22,
   "metadata": {},
   "outputs": [],
   "source": [
    "description = description.drop(columns=['Body'])"
   ]
  },
  {
   "cell_type": "markdown",
   "metadata": {},
   "source": [
    "### Normalisation"
   ]
  },
  {
   "cell_type": "markdown",
   "metadata": {},
   "source": [
    "The goal here is to extract the frequences of the words"
   ]
  },
  {
   "cell_type": "code",
   "execution_count": 23,
   "metadata": {},
   "outputs": [],
   "source": [
    "data_cleaned = pd.merge(dataTags, description, left_index=True,\n",
    "                        right_index=True, how='inner')\n",
    "\n",
    "data_cleaned = data_cleaned[['Title', 'Body_Cleaned', 'preprocessedTags']]"
   ]
  },
  {
   "cell_type": "code",
   "execution_count": 24,
   "metadata": {},
   "outputs": [
    {
     "data": {
      "text/html": [
       "<div>\n",
       "<style scoped>\n",
       "    .dataframe tbody tr th:only-of-type {\n",
       "        vertical-align: middle;\n",
       "    }\n",
       "\n",
       "    .dataframe tbody tr th {\n",
       "        vertical-align: top;\n",
       "    }\n",
       "\n",
       "    .dataframe thead th {\n",
       "        text-align: right;\n",
       "    }\n",
       "</style>\n",
       "<table border=\"1\" class=\"dataframe\">\n",
       "  <thead>\n",
       "    <tr style=\"text-align: right;\">\n",
       "      <th></th>\n",
       "      <th>Title</th>\n",
       "      <th>Body_Cleaned</th>\n",
       "      <th>preprocessedTags</th>\n",
       "    </tr>\n",
       "    <tr>\n",
       "      <th>Id</th>\n",
       "      <th></th>\n",
       "      <th></th>\n",
       "      <th></th>\n",
       "    </tr>\n",
       "  </thead>\n",
       "  <tbody>\n",
       "    <tr>\n",
       "      <th>48320518</th>\n",
       "      <td>Connect two different Database with one applic...</td>\n",
       "      <td>Connect two different Database with one applic...</td>\n",
       "      <td>[mysql, .net, sql-server]</td>\n",
       "    </tr>\n",
       "    <tr>\n",
       "      <th>48320543</th>\n",
       "      <td>bootstrap 4 navbar disappears when resizing sc...</td>\n",
       "      <td>bootstrap 4 navbar disappears when resizing sc...</td>\n",
       "      <td>[html, angular, bootstrap-4]</td>\n",
       "    </tr>\n",
       "    <tr>\n",
       "      <th>48320558</th>\n",
       "      <td>xml transform XSLT with namespaces</td>\n",
       "      <td>xml transform XSLT with namespaces xml transfo...</td>\n",
       "      <td>[xml]</td>\n",
       "    </tr>\n",
       "    <tr>\n",
       "      <th>48320572</th>\n",
       "      <td>Convert Timestamp to Date with various formats...</td>\n",
       "      <td>Convert Timestamp to Date with various formats...</td>\n",
       "      <td>[ios, json, date, datetime]</td>\n",
       "    </tr>\n",
       "    <tr>\n",
       "      <th>44247</th>\n",
       "      <td>What is the best practice for estimating requi...</td>\n",
       "      <td>What is the best practice for estimating requi...</td>\n",
       "      <td>[project-management]</td>\n",
       "    </tr>\n",
       "  </tbody>\n",
       "</table>\n",
       "</div>"
      ],
      "text/plain": [
       "                                                      Title  \\\n",
       "Id                                                            \n",
       "48320518  Connect two different Database with one applic...   \n",
       "48320543  bootstrap 4 navbar disappears when resizing sc...   \n",
       "48320558                 xml transform XSLT with namespaces   \n",
       "48320572  Convert Timestamp to Date with various formats...   \n",
       "44247     What is the best practice for estimating requi...   \n",
       "\n",
       "                                               Body_Cleaned  \\\n",
       "Id                                                            \n",
       "48320518  Connect two different Database with one applic...   \n",
       "48320543  bootstrap 4 navbar disappears when resizing sc...   \n",
       "48320558  xml transform XSLT with namespaces xml transfo...   \n",
       "48320572  Convert Timestamp to Date with various formats...   \n",
       "44247     What is the best practice for estimating requi...   \n",
       "\n",
       "                      preprocessedTags  \n",
       "Id                                      \n",
       "48320518     [mysql, .net, sql-server]  \n",
       "48320543  [html, angular, bootstrap-4]  \n",
       "48320558                         [xml]  \n",
       "48320572   [ios, json, date, datetime]  \n",
       "44247             [project-management]  "
      ]
     },
     "execution_count": 24,
     "metadata": {},
     "output_type": "execute_result"
    }
   ],
   "source": [
    "data_cleaned.head()"
   ]
  },
  {
   "cell_type": "markdown",
   "metadata": {},
   "source": [
    "### Stop Words"
   ]
  },
  {
   "cell_type": "code",
   "execution_count": 25,
   "metadata": {},
   "outputs": [
    {
     "name": "stderr",
     "output_type": "stream",
     "text": [
      "[nltk_data] Downloading package stopwords to\n",
      "[nltk_data]     C:\\Users\\jpaul\\AppData\\Roaming\\nltk_data...\n",
      "[nltk_data]   Package stopwords is already up-to-date!\n"
     ]
    },
    {
     "data": {
      "text/plain": [
       "True"
      ]
     },
     "execution_count": 25,
     "metadata": {},
     "output_type": "execute_result"
    }
   ],
   "source": [
    "nltk.download('stopwords')"
   ]
  },
  {
   "cell_type": "code",
   "execution_count": 26,
   "metadata": {},
   "outputs": [],
   "source": [
    "# First we get the freq of words on our dataset\n",
    "tokenizer = nltk.RegexpTokenizer(r'\\w+')\n",
    "\n",
    "desc = defaultdict(list)\n",
    "\n",
    "for i in data_cleaned.index:\n",
    "    desc[i] += tokenizer.tokenize(data_cleaned.loc[i, 'Body_Cleaned'].lower())\n",
    "    \n",
    "stats, freq = dict(), dict()\n",
    "\n",
    "for k, v in zip(desc.keys(), desc.values()):\n",
    "    freq[k] = fq = nltk.FreqDist(v)\n",
    "    stats[k] = {'total': len(v), 'Unique': len(fq.keys())} "
   ]
  },
  {
   "cell_type": "code",
   "execution_count": 27,
   "metadata": {},
   "outputs": [],
   "source": [
    "freq_totale = nltk.Counter()\n",
    "for k, v in zip(desc.keys(), desc.values()):\n",
    "    freq_totale += freq[k]"
   ]
  },
  {
   "cell_type": "code",
   "execution_count": 28,
   "metadata": {},
   "outputs": [],
   "source": [
    "# Here is our list of stop words\n",
    "to_keep = { key:value for (key,value) in freq_totale.items() if value <= 18000 and value >= 50}.keys()\n",
    "# Let's add the common stop words list of nltk\n",
    "sw = set()\n",
    "sw.update(tuple(nltk.corpus.stopwords.words('english')))"
   ]
  },
  {
   "cell_type": "code",
   "execution_count": 29,
   "metadata": {},
   "outputs": [
    {
     "data": {
      "text/plain": [
       "5473"
      ]
     },
     "execution_count": 29,
     "metadata": {},
     "output_type": "execute_result"
    }
   ],
   "source": [
    "len(to_keep)"
   ]
  },
  {
   "cell_type": "markdown",
   "metadata": {},
   "source": [
    "Let's clean the words in our description"
   ]
  },
  {
   "cell_type": "code",
   "execution_count": 30,
   "metadata": {},
   "outputs": [
    {
     "name": "stdout",
     "output_type": "stream",
     "text": [
      "Performing Step  0 / 32842\n",
      "Performing Step  2000 / 32842\n",
      "Performing Step  4000 / 32842\n",
      "Performing Step  6000 / 32842\n",
      "Performing Step  8000 / 32842\n",
      "Performing Step  10000 / 32842\n",
      "Performing Step  12000 / 32842\n",
      "Performing Step  14000 / 32842\n",
      "Performing Step  16000 / 32842\n",
      "Performing Step  18000 / 32842\n",
      "Performing Step  20000 / 32842\n",
      "Performing Step  22000 / 32842\n",
      "Performing Step  24000 / 32842\n",
      "Performing Step  26000 / 32842\n",
      "Performing Step  28000 / 32842\n",
      "Performing Step  30000 / 32842\n",
      "Performing Step  32000 / 32842\n"
     ]
    }
   ],
   "source": [
    "stemmer = EnglishStemmer()\n",
    "\n",
    "tokenizer = nltk.RegexpTokenizer(r'\\w+')\n",
    "\n",
    "desc = []\n",
    "i = 0\n",
    "for index, row in data_cleaned.iterrows():\n",
    "    if i%2000 == 0:\n",
    "        print(\"Performing Step \", i, \"/\", data_cleaned.shape[0])\n",
    "    token = tokenizer.tokenize(row['Body_Cleaned'].lower())\n",
    "    description = [stemmer.stem(w) for w in token if not w in list(sw) and w in list(to_keep)]\n",
    "    desc.append(description)\n",
    "    i += 1"
   ]
  },
  {
   "cell_type": "code",
   "execution_count": 31,
   "metadata": {},
   "outputs": [],
   "source": [
    "freq_totale = nltk.Counter()\n",
    "for k in desc:\n",
    "    freq_totale.update(k)"
   ]
  },
  {
   "cell_type": "code",
   "execution_count": 32,
   "metadata": {},
   "outputs": [],
   "source": [
    "freq_totale_sorted = pd.DataFrame.from_dict(freq_totale, orient='index').sort_values(by=0, ascending=False)\n",
    "freq_totale_sorted = freq_totale_sorted[freq_totale_sorted[0] <= 18000]"
   ]
  },
  {
   "cell_type": "code",
   "execution_count": 33,
   "metadata": {},
   "outputs": [
    {
     "data": {
      "image/png": "[encoded data removed]",
      "text/plain": [
       "<Figure size 432x288 with 1 Axes>"
      ]
     },
     "metadata": {
      "needs_background": "light"
     },
     "output_type": "display_data"
    }
   ],
   "source": [
    "i=np.arange(20)\n",
    "freq_totale_sorted.head(20).plot(kind='bar')\n",
    "plt.title('Frequency of top 20 Words')\n",
    "plt.xticks(i, freq_totale_sorted.head(20).index)\n",
    "plt.xlabel('Words')\n",
    "plt.ylabel('Counts')\n",
    "plt.show()"
   ]
  },
  {
   "cell_type": "code",
   "execution_count": 34,
   "metadata": {},
   "outputs": [],
   "source": [
    "data_cleaned['desc'] = [' '.join(map(str, l)) for l in desc]"
   ]
  },
  {
   "cell_type": "code",
   "execution_count": 35,
   "metadata": {},
   "outputs": [],
   "source": [
    "data_cleaned = data_cleaned[['desc', 'preprocessedTags']]\n",
    "tags = pd.DataFrame(data_cleaned.preprocessedTags.tolist(),\n",
    "                    columns=['Tag1', 'Tag2', 'Tag3', 'Tag4', 'Tag5'],\n",
    "                    index=data_cleaned.index)\n",
    "data_cleaned = pd.merge(data_cleaned, tags, left_index=True, right_index=True, how='inner')\n",
    "data_cleaned = data_cleaned.dropna(subset=['preprocessedTags'])"
   ]
  },
  {
   "cell_type": "markdown",
   "metadata": {},
   "source": [
    "# Saving data"
   ]
  },
  {
   "cell_type": "code",
   "execution_count": 36,
   "metadata": {},
   "outputs": [],
   "source": [
    "import csv\n",
    "to_keep_list = list(to_keep)\n",
    "with open(\"Flask/to_keep.csv\", 'w') as fp:\n",
    "    wr = csv.writer(fp, quoting=csv.QUOTE_ALL)\n",
    "    wr.writerow(to_keep_list)\n",
    "\n",
    "sw_list = list(sw)\n",
    "with open(\"Flask/sw.csv\", 'w') as fp:\n",
    "    wr = csv.writer(fp, quoting=csv.QUOTE_ALL)\n",
    "    wr.writerow(sw_list)"
   ]
  },
  {
   "cell_type": "code",
   "execution_count": 37,
   "metadata": {},
   "outputs": [],
   "source": [
    "data_cleaned.to_csv('data_cleaned.csv')"
   ]
  },
  {
   "cell_type": "code",
   "execution_count": null,
   "metadata": {},
   "outputs": [],
   "source": []
  },
  {
   "cell_type": "code",
   "execution_count": null,
   "metadata": {},
   "outputs": [],
   "source": []
  },
  {
   "cell_type": "code",
   "execution_count": null,
   "metadata": {},
   "outputs": [],
   "source": []
  }
 ],
 "metadata": {
  "kernelspec": {
   "display_name": "Python 3",
   "language": "python",
   "name": "python3"
  },
  "language_info": {
   "codemirror_mode": {
    "name": "ipython",
    "version": 3
   },
   "file_extension": ".py",
   "mimetype": "text/x-python",
   "name": "python",
   "nbconvert_exporter": "python",
   "pygments_lexer": "ipython3",
   "version": "3.8.5"
  }
 },
 "nbformat": 4,
 "nbformat_minor": 4
}
