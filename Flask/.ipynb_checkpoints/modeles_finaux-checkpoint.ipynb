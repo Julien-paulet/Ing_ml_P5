{
 "cells": [
  {
   "cell_type": "code",
   "execution_count": 1,
   "metadata": {},
   "outputs": [],
   "source": [
    "import pandas as pd\n",
    "import numpy as np\n",
    "import statsmodels.api as sm\n",
    "import statsmodels.formula.api as smf\n",
    "import matplotlib.pyplot as plt\n",
    "from pickle import dump"
   ]
  },
  {
   "cell_type": "markdown",
   "metadata": {},
   "source": [
    "# Import des données"
   ]
  },
  {
   "cell_type": "code",
   "execution_count": 5,
   "metadata": {},
   "outputs": [],
   "source": [
    "data_quanti = pd.read_csv('../files_cleaned/data_quanti.csv')\n",
    "data_quali = pd.read_csv('../files_cleaned/data_quali.csv')\n",
    "try:\n",
    "    data_quanti = data_quanti.drop(columns=['Unnamed: 0'])\n",
    "except:\n",
    "    data_quanti = data_quanti\n",
    "    \n",
    "try:\n",
    "    data_quanti = data_quanti.drop(columns=['index'])\n",
    "except:\n",
    "    data_quanti = data_quanti"
   ]
  },
  {
   "cell_type": "markdown",
   "metadata": {},
   "source": [
    "# Mise en place d'une fonction d'erreur"
   ]
  },
  {
   "cell_type": "code",
   "execution_count": 6,
   "metadata": {},
   "outputs": [],
   "source": [
    "from sklearn.metrics import mean_squared_error\n",
    "from sklearn.metrics import median_absolute_error\n",
    "from sklearn.metrics import mean_absolute_error"
   ]
  },
  {
   "cell_type": "code",
   "execution_count": 7,
   "metadata": {},
   "outputs": [],
   "source": [
    "saved_errors = pd.DataFrame(columns=['Modèle', 'MSE', 'Med_abs_error', 'mean_abs_error'])"
   ]
  },
  {
   "cell_type": "code",
   "execution_count": 8,
   "metadata": {},
   "outputs": [],
   "source": [
    "def error_metric(modele_name, y_test, y_predict, saved=False):\n",
    "    #Calcul des métriques : \n",
    "    mse = np.sqrt(mean_squared_error(y_test, y_predict))\n",
    "    mae = median_absolute_error(y_test, y_predict)\n",
    "    mean_abs_error = mean_absolute_error(y_test, y_predict)\n",
    "    #Enregistrement dans un dataframe\n",
    "    if saved == True:\n",
    "        err = [modele_name, mse, mae, mean_abs_error]\n",
    "        saved_errors.loc[len(saved_errors)] = err\n",
    "    #Return la métrique\n",
    "    return mae"
   ]
  },
  {
   "cell_type": "markdown",
   "metadata": {},
   "source": [
    "# TotalGHGEmissions"
   ]
  },
  {
   "cell_type": "code",
   "execution_count": 9,
   "metadata": {},
   "outputs": [],
   "source": [
    "target = \"TotalGHGEmissions\""
   ]
  },
  {
   "cell_type": "code",
   "execution_count": 10,
   "metadata": {},
   "outputs": [],
   "source": [
    "data_quanti_ = data_quanti.dropna(subset=[target])"
   ]
  },
  {
   "cell_type": "code",
   "execution_count": 11,
   "metadata": {},
   "outputs": [],
   "source": [
    "x = data_quanti_.drop(columns=[\"SiteEnergyUseWN(kBtu)\", \"TotalGHGEmissions\",\n",
    "                              \"SiteEnergyUse(kBtu)\",\n",
    "                              'ENERGYSTARScore', 'GHGEmissionsIntensity', \n",
    "                              'Electricity(kWh)', 'Electricity(kBtu)',\n",
    "                              'NaturalGas(kBtu)', 'NaturalGas(therms)',\n",
    "                              'SiteEnergyUseWN(kBtu)', 'SiteEUIWN(kBtu/sf)',\n",
    "                              'SourceEUI(kBtu/sf)', 'SourceEUIWN(kBtu/sf)',\n",
    "                              'SteamUse(kBtu)', 'OSEBuildingID', 'DataYear',\n",
    "                              'SiteEUI(kBtu/sf)'])\n",
    "y = data_quanti_[[target]]"
   ]
  },
  {
   "cell_type": "code",
   "execution_count": 12,
   "metadata": {},
   "outputs": [
    {
     "data": {
      "text/plain": [
       "Index(['CouncilDistrictCode', 'LargestPropertyUseTypeGFA', 'Latitude',\n",
       "       'Longitude', 'NumberofBuildings', 'NumberofFloors', 'YearBuilt',\n",
       "       'BuildingType_Campus', 'BuildingType_Multifamily HR (10+)',\n",
       "       'BuildingType_Multifamily LR (1-4)',\n",
       "       'BuildingType_Multifamily MR (5-9)', 'BuildingType_NonResidential',\n",
       "       'BuildingType_Nonresidential COS', 'BuildingType_Nonresidential WA',\n",
       "       'BuildingType_SPS-District K-12'],\n",
       "      dtype='object')"
      ]
     },
     "execution_count": 12,
     "metadata": {},
     "output_type": "execute_result"
    }
   ],
   "source": [
    "x.columns"
   ]
  },
  {
   "cell_type": "code",
   "execution_count": 13,
   "metadata": {},
   "outputs": [],
   "source": [
    "x_1 = x.iloc[:, 0:7]\n",
    "x_2 = x.iloc[:, 7:]\n",
    "x_1 = x_1.fillna(x_1.mean())\n",
    "x_2 = x_2.fillna(0)\n",
    "x = pd.merge(x_1, x_2, left_index=True, right_index=True)\n",
    "y = y.astype(int)"
   ]
  },
  {
   "cell_type": "code",
   "execution_count": 14,
   "metadata": {},
   "outputs": [
    {
     "data": {
      "text/html": [
       "<div>\n",
       "<style scoped>\n",
       "    .dataframe tbody tr th:only-of-type {\n",
       "        vertical-align: middle;\n",
       "    }\n",
       "\n",
       "    .dataframe tbody tr th {\n",
       "        vertical-align: top;\n",
       "    }\n",
       "\n",
       "    .dataframe thead th {\n",
       "        text-align: right;\n",
       "    }\n",
       "</style>\n",
       "<table border=\"1\" class=\"dataframe\">\n",
       "  <thead>\n",
       "    <tr style=\"text-align: right;\">\n",
       "      <th></th>\n",
       "      <th>CouncilDistrictCode</th>\n",
       "      <th>LargestPropertyUseTypeGFA</th>\n",
       "      <th>Latitude</th>\n",
       "      <th>Longitude</th>\n",
       "      <th>NumberofBuildings</th>\n",
       "      <th>NumberofFloors</th>\n",
       "      <th>YearBuilt</th>\n",
       "      <th>BuildingType_Campus</th>\n",
       "      <th>BuildingType_Multifamily HR (10+)</th>\n",
       "      <th>BuildingType_Multifamily LR (1-4)</th>\n",
       "      <th>BuildingType_Multifamily MR (5-9)</th>\n",
       "      <th>BuildingType_NonResidential</th>\n",
       "      <th>BuildingType_Nonresidential COS</th>\n",
       "      <th>BuildingType_Nonresidential WA</th>\n",
       "      <th>BuildingType_SPS-District K-12</th>\n",
       "    </tr>\n",
       "  </thead>\n",
       "  <tbody>\n",
       "    <tr>\n",
       "      <th>0</th>\n",
       "      <td>7.0</td>\n",
       "      <td>88434.0</td>\n",
       "      <td>47.61220</td>\n",
       "      <td>-122.33799</td>\n",
       "      <td>1.0</td>\n",
       "      <td>12.0</td>\n",
       "      <td>1927.0</td>\n",
       "      <td>0.0</td>\n",
       "      <td>0.0</td>\n",
       "      <td>0.0</td>\n",
       "      <td>0.0</td>\n",
       "      <td>1.0</td>\n",
       "      <td>0.0</td>\n",
       "      <td>0.0</td>\n",
       "      <td>0.0</td>\n",
       "    </tr>\n",
       "    <tr>\n",
       "      <th>1</th>\n",
       "      <td>7.0</td>\n",
       "      <td>83880.0</td>\n",
       "      <td>47.61317</td>\n",
       "      <td>-122.33393</td>\n",
       "      <td>1.0</td>\n",
       "      <td>11.0</td>\n",
       "      <td>1996.0</td>\n",
       "      <td>0.0</td>\n",
       "      <td>0.0</td>\n",
       "      <td>0.0</td>\n",
       "      <td>0.0</td>\n",
       "      <td>1.0</td>\n",
       "      <td>0.0</td>\n",
       "      <td>0.0</td>\n",
       "      <td>0.0</td>\n",
       "    </tr>\n",
       "    <tr>\n",
       "      <th>2</th>\n",
       "      <td>7.0</td>\n",
       "      <td>756493.0</td>\n",
       "      <td>47.61393</td>\n",
       "      <td>-122.33810</td>\n",
       "      <td>1.0</td>\n",
       "      <td>41.0</td>\n",
       "      <td>1969.0</td>\n",
       "      <td>0.0</td>\n",
       "      <td>0.0</td>\n",
       "      <td>0.0</td>\n",
       "      <td>0.0</td>\n",
       "      <td>1.0</td>\n",
       "      <td>0.0</td>\n",
       "      <td>0.0</td>\n",
       "      <td>0.0</td>\n",
       "    </tr>\n",
       "    <tr>\n",
       "      <th>3</th>\n",
       "      <td>7.0</td>\n",
       "      <td>61320.0</td>\n",
       "      <td>47.61412</td>\n",
       "      <td>-122.33664</td>\n",
       "      <td>1.0</td>\n",
       "      <td>10.0</td>\n",
       "      <td>1926.0</td>\n",
       "      <td>0.0</td>\n",
       "      <td>0.0</td>\n",
       "      <td>0.0</td>\n",
       "      <td>0.0</td>\n",
       "      <td>1.0</td>\n",
       "      <td>0.0</td>\n",
       "      <td>0.0</td>\n",
       "      <td>0.0</td>\n",
       "    </tr>\n",
       "    <tr>\n",
       "      <th>4</th>\n",
       "      <td>7.0</td>\n",
       "      <td>123445.0</td>\n",
       "      <td>47.61375</td>\n",
       "      <td>-122.34047</td>\n",
       "      <td>1.0</td>\n",
       "      <td>18.0</td>\n",
       "      <td>1980.0</td>\n",
       "      <td>0.0</td>\n",
       "      <td>0.0</td>\n",
       "      <td>0.0</td>\n",
       "      <td>0.0</td>\n",
       "      <td>1.0</td>\n",
       "      <td>0.0</td>\n",
       "      <td>0.0</td>\n",
       "      <td>0.0</td>\n",
       "    </tr>\n",
       "  </tbody>\n",
       "</table>\n",
       "</div>"
      ],
      "text/plain": [
       "   CouncilDistrictCode  LargestPropertyUseTypeGFA  Latitude  Longitude  \\\n",
       "0                  7.0                    88434.0  47.61220 -122.33799   \n",
       "1                  7.0                    83880.0  47.61317 -122.33393   \n",
       "2                  7.0                   756493.0  47.61393 -122.33810   \n",
       "3                  7.0                    61320.0  47.61412 -122.33664   \n",
       "4                  7.0                   123445.0  47.61375 -122.34047   \n",
       "\n",
       "   NumberofBuildings  NumberofFloors  YearBuilt  BuildingType_Campus  \\\n",
       "0                1.0            12.0     1927.0                  0.0   \n",
       "1                1.0            11.0     1996.0                  0.0   \n",
       "2                1.0            41.0     1969.0                  0.0   \n",
       "3                1.0            10.0     1926.0                  0.0   \n",
       "4                1.0            18.0     1980.0                  0.0   \n",
       "\n",
       "   BuildingType_Multifamily HR (10+)  BuildingType_Multifamily LR (1-4)  \\\n",
       "0                                0.0                                0.0   \n",
       "1                                0.0                                0.0   \n",
       "2                                0.0                                0.0   \n",
       "3                                0.0                                0.0   \n",
       "4                                0.0                                0.0   \n",
       "\n",
       "   BuildingType_Multifamily MR (5-9)  BuildingType_NonResidential  \\\n",
       "0                                0.0                          1.0   \n",
       "1                                0.0                          1.0   \n",
       "2                                0.0                          1.0   \n",
       "3                                0.0                          1.0   \n",
       "4                                0.0                          1.0   \n",
       "\n",
       "   BuildingType_Nonresidential COS  BuildingType_Nonresidential WA  \\\n",
       "0                              0.0                             0.0   \n",
       "1                              0.0                             0.0   \n",
       "2                              0.0                             0.0   \n",
       "3                              0.0                             0.0   \n",
       "4                              0.0                             0.0   \n",
       "\n",
       "   BuildingType_SPS-District K-12  \n",
       "0                             0.0  \n",
       "1                             0.0  \n",
       "2                             0.0  \n",
       "3                             0.0  \n",
       "4                             0.0  "
      ]
     },
     "execution_count": 14,
     "metadata": {},
     "output_type": "execute_result"
    }
   ],
   "source": [
    "x.head()"
   ]
  },
  {
   "cell_type": "code",
   "execution_count": 15,
   "metadata": {},
   "outputs": [],
   "source": [
    "from sklearn import preprocessing\n",
    "std_scale_GHG = preprocessing.StandardScaler().fit(x)\n",
    "x = std_scale_GHG.transform(x)"
   ]
  },
  {
   "cell_type": "markdown",
   "metadata": {},
   "source": [
    "## Division des datasets en deux "
   ]
  },
  {
   "cell_type": "code",
   "execution_count": 16,
   "metadata": {},
   "outputs": [],
   "source": [
    "from sklearn.model_selection import train_test_split"
   ]
  },
  {
   "cell_type": "code",
   "execution_count": 17,
   "metadata": {},
   "outputs": [],
   "source": [
    "x_train, x_test, y_train, y_test = train_test_split(x, y, test_size=0.2)"
   ]
  },
  {
   "cell_type": "markdown",
   "metadata": {},
   "source": [
    "## Random Forest"
   ]
  },
  {
   "cell_type": "markdown",
   "metadata": {},
   "source": [
    "Préparation des données"
   ]
  },
  {
   "cell_type": "code",
   "execution_count": 18,
   "metadata": {},
   "outputs": [],
   "source": [
    "from sklearn.ensemble import RandomForestRegressor\n",
    "from sklearn.feature_selection import SelectFromModel"
   ]
  },
  {
   "cell_type": "code",
   "execution_count": 19,
   "metadata": {},
   "outputs": [
    {
     "name": "stderr",
     "output_type": "stream",
     "text": [
      "C:\\Users\\jpaul\\Anaconda3\\lib\\site-packages\\ipykernel_launcher.py:3: DataConversionWarning: A column-vector y was passed when a 1d array was expected. Please change the shape of y to (n_samples,), for example using ravel().\n",
      "  This is separate from the ipykernel package so we can avoid doing imports until\n"
     ]
    },
    {
     "data": {
      "text/plain": [
       "15.30518018018018"
      ]
     },
     "execution_count": 19,
     "metadata": {},
     "output_type": "execute_result"
    }
   ],
   "source": [
    "rf_TotalGHGEmissions = RandomForestRegressor(n_estimators = 888, min_samples_split = 2, \n",
    "                                             max_depth = 75, n_jobs = -1)\n",
    "rf_TotalGHGEmissions.fit(x_train, y_train)\n",
    "y_predict = rf_TotalGHGEmissions.predict(x_test)\n",
    "error_metric('Random_forest Opti', y_test, y_predict, saved=True)"
   ]
  },
  {
   "cell_type": "markdown",
   "metadata": {},
   "source": [
    "# SiteEnergyUse(kBtu)"
   ]
  },
  {
   "cell_type": "code",
   "execution_count": 20,
   "metadata": {},
   "outputs": [],
   "source": [
    "target = \"SiteEnergyUse(kBtu)\""
   ]
  },
  {
   "cell_type": "code",
   "execution_count": 21,
   "metadata": {},
   "outputs": [],
   "source": [
    "data_quanti_ = data_quanti.dropna(subset=[target, 'ENERGYSTARScore'])"
   ]
  },
  {
   "cell_type": "code",
   "execution_count": 22,
   "metadata": {},
   "outputs": [],
   "source": [
    "x = data_quanti_.drop(columns=[\"SiteEnergyUseWN(kBtu)\", \"TotalGHGEmissions\",\n",
    "                              \"SiteEnergyUse(kBtu)\", 'GHGEmissionsIntensity', \n",
    "                              'Electricity(kWh)', 'Electricity(kBtu)',\n",
    "                              'NaturalGas(kBtu)', 'NaturalGas(therms)',\n",
    "                              'SiteEnergyUseWN(kBtu)', 'SiteEUIWN(kBtu/sf)',\n",
    "                              'SourceEUI(kBtu/sf)', 'SourceEUIWN(kBtu/sf)',\n",
    "                              'SteamUse(kBtu)', 'OSEBuildingID', 'DataYear',\n",
    "                              'SiteEUI(kBtu/sf)'])\n",
    "\n",
    "z = data_quanti_[[target]]"
   ]
  },
  {
   "cell_type": "code",
   "execution_count": 23,
   "metadata": {},
   "outputs": [
    {
     "data": {
      "text/plain": [
       "Index(['CouncilDistrictCode', 'ENERGYSTARScore', 'LargestPropertyUseTypeGFA',\n",
       "       'Latitude', 'Longitude', 'NumberofBuildings', 'NumberofFloors',\n",
       "       'YearBuilt', 'BuildingType_Campus', 'BuildingType_Multifamily HR (10+)',\n",
       "       'BuildingType_Multifamily LR (1-4)',\n",
       "       'BuildingType_Multifamily MR (5-9)', 'BuildingType_NonResidential',\n",
       "       'BuildingType_Nonresidential COS', 'BuildingType_Nonresidential WA',\n",
       "       'BuildingType_SPS-District K-12'],\n",
       "      dtype='object')"
      ]
     },
     "execution_count": 23,
     "metadata": {},
     "output_type": "execute_result"
    }
   ],
   "source": [
    "x.columns"
   ]
  },
  {
   "cell_type": "code",
   "execution_count": 24,
   "metadata": {},
   "outputs": [],
   "source": [
    "x_1 = x.iloc[:, 0:8]\n",
    "x_2 = x.iloc[:, 8:]\n",
    "x_1 = x_1.fillna(x_1.mean())\n",
    "x_2 = x_2.fillna(0)\n",
    "x = pd.merge(x_1, x_2, left_index=True, right_index=True)\n",
    "z = z.astype(int)"
   ]
  },
  {
   "cell_type": "code",
   "execution_count": 25,
   "metadata": {},
   "outputs": [],
   "source": [
    "std_scale_ENERGY = preprocessing.StandardScaler().fit(x)\n",
    "x = std_scale_ENERGY.transform(x)"
   ]
  },
  {
   "cell_type": "markdown",
   "metadata": {},
   "source": [
    "## Division du dataset en deux"
   ]
  },
  {
   "cell_type": "code",
   "execution_count": 26,
   "metadata": {},
   "outputs": [],
   "source": [
    "x_train, x_test, z_train, z_test = train_test_split(x, z, test_size=0.2)"
   ]
  },
  {
   "cell_type": "markdown",
   "metadata": {},
   "source": [
    "## Random Forest"
   ]
  },
  {
   "cell_type": "code",
   "execution_count": 27,
   "metadata": {},
   "outputs": [
    {
     "name": "stderr",
     "output_type": "stream",
     "text": [
      "C:\\Users\\jpaul\\Anaconda3\\lib\\site-packages\\ipykernel_launcher.py:3: DataConversionWarning: A column-vector y was passed when a 1d array was expected. Please change the shape of y to (n_samples,), for example using ravel().\n",
      "  This is separate from the ipykernel package so we can avoid doing imports until\n"
     ]
    },
    {
     "data": {
      "text/plain": [
       "316027.9987129987"
      ]
     },
     "execution_count": 27,
     "metadata": {},
     "output_type": "execute_result"
    }
   ],
   "source": [
    "rf_SiteEnergyUse = RandomForestRegressor(n_estimators = 777, min_samples_split = 2, \n",
    "                                         max_depth = 60, n_jobs = -1)\n",
    "rf_SiteEnergyUse.fit(x_train, z_train)\n",
    "y_predict = rf_SiteEnergyUse.predict(x_test)\n",
    "error_metric('Random_forest Opti', z_test, y_predict, saved=True)"
   ]
  },
  {
   "cell_type": "markdown",
   "metadata": {},
   "source": [
    "# Save des modèles et du scaler"
   ]
  },
  {
   "cell_type": "code",
   "execution_count": 28,
   "metadata": {},
   "outputs": [],
   "source": [
    "dump(std_scale_GHG, open('std_scale_GHG.pkl', 'wb'))\n",
    "dump(std_scale_ENERGY, open('std_scale_ENERGY.pkl', 'wb'))\n",
    "dump(rf_TotalGHGEmissions, open('rf_TotalGHGEmissions.pkl', 'wb'))\n",
    "dump(rf_SiteEnergyUse, open('rf_SiteEnergyUse.pkl', 'wb'))"
   ]
  },
  {
   "cell_type": "code",
   "execution_count": null,
   "metadata": {},
   "outputs": [],
   "source": []
  }
 ],
 "metadata": {
  "kernelspec": {
   "display_name": "Python 3",
   "language": "python",
   "name": "python3"
  },
  "language_info": {
   "codemirror_mode": {
    "name": "ipython",
    "version": 3
   },
   "file_extension": ".py",
   "mimetype": "text/x-python",
   "name": "python",
   "nbconvert_exporter": "python",
   "pygments_lexer": "ipython3",
   "version": "3.8.3"
  },
  "toc": {
   "base_numbering": 1,
   "nav_menu": {},
   "number_sections": true,
   "sideBar": true,
   "skip_h1_title": false,
   "title_cell": "Table of Contents",
   "title_sidebar": "Contents",
   "toc_cell": false,
   "toc_position": {},
   "toc_section_display": true,
   "toc_window_display": false
  }
 },
 "nbformat": 4,
 "nbformat_minor": 2
}
