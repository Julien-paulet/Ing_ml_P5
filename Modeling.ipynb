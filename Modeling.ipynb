{
 "cells": [
  {
   "cell_type": "code",
   "execution_count": 24,
   "metadata": {},
   "outputs": [],
   "source": [
    "import pandas as pd\n",
    "import numpy as np\n",
    "import nltk\n",
    "import sklearn\n",
    "import string\n",
    "import re\n",
    "from collections import defaultdict\n",
    "import matplotlib.pyplot as plt\n",
    "import seaborn as sns\n",
    "import matplotlib.pyplot as plt\n",
    "import seaborn as sns\n",
    "import pickle\n",
    "from lxml import html\n",
    "import nltk\n",
    "from nltk.stem.snowball import EnglishStemmer\n",
    "from sklearn.feature_extraction.text import TfidfVectorizer\n",
    "from sklearn.feature_extraction.text import CountVectorizer\n",
    "from sklearn.model_selection import train_test_split\n",
    "from sklearn.manifold import TSNE\n",
    "from sklearn.ensemble import RandomForestClassifier\n",
    "from sklearn.model_selection import RandomizedSearchCV\n",
    "from sklearn.multiclass import OneVsRestClassifier\n",
    "from sklearn.linear_model import SGDClassifier\n",
    "from sklearn.linear_model import LogisticRegression\n",
    "from sklearn import metrics\n",
    "from sklearn.metrics import f1_score,precision_score,recall_score,jaccard_score"
   ]
  },
  {
   "cell_type": "code",
   "execution_count": 2,
   "metadata": {},
   "outputs": [],
   "source": [
    "np.random.seed(42)"
   ]
  },
  {
   "cell_type": "code",
   "execution_count": 3,
   "metadata": {},
   "outputs": [
    {
     "data": {
      "text/html": [
       "<div>\n",
       "<style scoped>\n",
       "    .dataframe tbody tr th:only-of-type {\n",
       "        vertical-align: middle;\n",
       "    }\n",
       "\n",
       "    .dataframe tbody tr th {\n",
       "        vertical-align: top;\n",
       "    }\n",
       "\n",
       "    .dataframe thead th {\n",
       "        text-align: right;\n",
       "    }\n",
       "</style>\n",
       "<table border=\"1\" class=\"dataframe\">\n",
       "  <thead>\n",
       "    <tr style=\"text-align: right;\">\n",
       "      <th></th>\n",
       "      <th>Id</th>\n",
       "      <th>desc</th>\n",
       "      <th>Tags_</th>\n",
       "    </tr>\n",
       "  </thead>\n",
       "  <tbody>\n",
       "    <tr>\n",
       "      <th>0</th>\n",
       "      <td>48320518</td>\n",
       "      <td>connect two differ databas one applic asp net ...</td>\n",
       "      <td>mysql .net sql-server</td>\n",
       "    </tr>\n",
       "    <tr>\n",
       "      <th>1</th>\n",
       "      <td>48320543</td>\n",
       "      <td>bootstrap navbar disappear resiz screen bootst...</td>\n",
       "      <td>html angular bootstrap-4</td>\n",
       "    </tr>\n",
       "    <tr>\n",
       "      <th>2</th>\n",
       "      <td>48320558</td>\n",
       "      <td>xml transform xslt namespac xml transform xslt...</td>\n",
       "      <td>xml xslt</td>\n",
       "    </tr>\n",
       "    <tr>\n",
       "      <th>3</th>\n",
       "      <td>48320572</td>\n",
       "      <td>convert timestamp date various format swift co...</td>\n",
       "      <td>ios json date datetime swift3</td>\n",
       "    </tr>\n",
       "    <tr>\n",
       "      <th>4</th>\n",
       "      <td>44247</td>\n",
       "      <td>best practic requir time develop best practic ...</td>\n",
       "      <td>project-management time-management</td>\n",
       "    </tr>\n",
       "  </tbody>\n",
       "</table>\n",
       "</div>"
      ],
      "text/plain": [
       "         Id                                               desc  \\\n",
       "0  48320518  connect two differ databas one applic asp net ...   \n",
       "1  48320543  bootstrap navbar disappear resiz screen bootst...   \n",
       "2  48320558  xml transform xslt namespac xml transform xslt...   \n",
       "3  48320572  convert timestamp date various format swift co...   \n",
       "4     44247  best practic requir time develop best practic ...   \n",
       "\n",
       "                                 Tags_  \n",
       "0               mysql .net sql-server   \n",
       "1            html angular bootstrap-4   \n",
       "2                            xml xslt   \n",
       "3       ios json date datetime swift3   \n",
       "4  project-management time-management   "
      ]
     },
     "execution_count": 3,
     "metadata": {},
     "output_type": "execute_result"
    }
   ],
   "source": [
    "data_cleaned = pd.read_csv('data_cleaned.csv')\n",
    "data_cleaned = data_cleaned.dropna(subset=['desc'])\n",
    "data_cleaned.head()"
   ]
  },
  {
   "cell_type": "code",
   "execution_count": 4,
   "metadata": {},
   "outputs": [
    {
     "data": {
      "text/plain": [
       "3284"
      ]
     },
     "execution_count": 4,
     "metadata": {},
     "output_type": "execute_result"
    }
   ],
   "source": [
    "sample = data_cleaned.sample(frac =.10)\n",
    "sample.shape[0]"
   ]
  },
  {
   "cell_type": "markdown",
   "metadata": {},
   "source": [
    "# Train/Test split"
   ]
  },
  {
   "cell_type": "code",
   "execution_count": 5,
   "metadata": {},
   "outputs": [],
   "source": [
    "X = sample[['desc']]\n",
    "Y = sample[['Tags_']]\n",
    "X_train, X_test, y_train, y_test = train_test_split(X, Y, test_size=0.2, random_state=42)"
   ]
  },
  {
   "cell_type": "code",
   "execution_count": 6,
   "metadata": {},
   "outputs": [
    {
     "name": "stdout",
     "output_type": "stream",
     "text": [
      "Number of data points in training data : 2627\n",
      "Number of data points in test data : 657\n"
     ]
    }
   ],
   "source": [
    "print(\"Number of data points in training data :\", X_train.shape[0])\n",
    "print(\"Number of data points in test data :\", X_test.shape[0])"
   ]
  },
  {
   "cell_type": "markdown",
   "metadata": {},
   "source": [
    "# TF-IDF"
   ]
  },
  {
   "cell_type": "code",
   "execution_count": 7,
   "metadata": {},
   "outputs": [],
   "source": [
    "vectorizer = TfidfVectorizer(min_df=0.00009, max_features=5000)\n",
    "X_train_multilabel = vectorizer.fit_transform(X_train['desc'])\n",
    "X_test_multilabel = vectorizer.transform(X_test['desc'])"
   ]
  },
  {
   "cell_type": "code",
   "execution_count": 8,
   "metadata": {},
   "outputs": [
    {
     "name": "stdout",
     "output_type": "stream",
     "text": [
      "Training data shape X :  (2627, 3792) Y : (2627, 1)\n",
      "Test data shape X :  (657, 3792) Y: (657, 1)\n"
     ]
    }
   ],
   "source": [
    "print(\"Training data shape X : \",X_train_multilabel.shape, \"Y :\",y_train.shape)\n",
    "print(\"Test data shape X : \",X_test_multilabel.shape,\"Y:\",y_test.shape)"
   ]
  },
  {
   "cell_type": "markdown",
   "metadata": {},
   "source": [
    "# Modeling"
   ]
  },
  {
   "cell_type": "code",
   "execution_count": 9,
   "metadata": {},
   "outputs": [],
   "source": [
    "clf = OneVsRestClassifier(SGDClassifier(loss='log', alpha=0.00001, penalty='l2', n_jobs=-1))\n",
    "clf.fit(X_train_multilabel, y_train)\n",
    "y_pred = clf.predict(X_test_multilabel)"
   ]
  },
  {
   "cell_type": "code",
   "execution_count": 29,
   "metadata": {},
   "outputs": [
    {
     "name": "stdout",
     "output_type": "stream",
     "text": [
      "Accuracy : 0.0898021308980213\n",
      "Macro f1 score : 0.018161660418686183\n",
      "Micro f1 score : 0.0898021308980213\n",
      "Hamming loss : 0.9101978691019786\n",
      "Hamming loss : 0.04701195219123506\n"
     ]
    }
   ],
   "source": [
    "print(\"Accuracy :\",metrics.accuracy_score(y_test,y_pred))\n",
    "print(\"Macro f1 score :\",metrics.f1_score(y_test, y_pred, average = 'macro'))\n",
    "print(\"Micro f1 score :\",metrics.f1_score(y_test, y_pred, average = 'micro'))\n",
    "print(\"Hamming loss :\",metrics.hamming_loss(y_test,y_pred))\n",
    "print(\"Jaccard weighted score :\",metrics.jaccard_score(y_test,y_pred, average = 'weighted'))"
   ]
  },
  {
   "cell_type": "code",
   "execution_count": 11,
   "metadata": {},
   "outputs": [],
   "source": [
    "clf2 = OneVsRestClassifier(LogisticRegression(penalty='l2', n_jobs=-1))\n",
    "clf2.fit(X_train_multilabel, y_train)\n",
    "y_pred2 = clf2.predict(X_test_multilabel)"
   ]
  },
  {
   "cell_type": "code",
   "execution_count": 32,
   "metadata": {},
   "outputs": [
    {
     "name": "stdout",
     "output_type": "stream",
     "text": [
      "Accuracy : 0.0882800608828006\n",
      "Macro f1 score : 0.00451581306073291\n",
      "Micro f1 score : 0.0882800608828006\n",
      "Hamming loss : 0.9117199391171994\n",
      "Jaccard micro score : 0.04617834394904458\n"
     ]
    }
   ],
   "source": [
    "print(\"Accuracy :\",metrics.accuracy_score(y_test,y_pred2))\n",
    "print(\"Macro f1 score :\",metrics.f1_score(y_test, y_pred2, average = 'macro'))\n",
    "print(\"Micro f1 score :\",metrics.f1_score(y_test, y_pred2, average = 'micro'))\n",
    "print(\"Hamming loss :\",metrics.hamming_loss(y_test,y_pred2))\n",
    "print(\"Jaccard weighted score :\",metrics.jaccard_score(y_test,y_pred2, average = 'weighted'))"
   ]
  },
  {
   "cell_type": "code",
   "execution_count": 16,
   "metadata": {},
   "outputs": [],
   "source": [
    "from sklearn.svm import SVC\n",
    "from sklearn.model_selection import GridSearchCV"
   ]
  },
  {
   "cell_type": "code",
   "execution_count": 21,
   "metadata": {},
   "outputs": [
    {
     "name": "stderr",
     "output_type": "stream",
     "text": [
      "/home/mlmaster/anaconda3/lib/python3.8/site-packages/sklearn/model_selection/_split.py:670: UserWarning: The least populated class in y has only 1 members, which is less than n_splits=5.\n",
      "  warnings.warn((\"The least populated class in y has only %d\"\n",
      "/home/mlmaster/anaconda3/lib/python3.8/site-packages/joblib/externals/loky/process_executor.py:688: UserWarning: A worker stopped while some jobs were given to the executor. This can be caused by a too short worker timeout or by a memory leak.\n",
      "  warnings.warn(\n"
     ]
    },
    {
     "name": "stdout",
     "output_type": "stream",
     "text": [
      "Best score: 0.01732369761464761\n",
      "Param: {'estimator__C': 2, 'estimator__degree': 1, 'estimator__kernel': 'rbf'}\n"
     ]
    }
   ],
   "source": [
    "svc = OneVsRestClassifier(SVC())\n",
    "\n",
    "parameters = {\n",
    "    \"estimator__C\": [1,2],\n",
    "    \"estimator__kernel\": [\"rbf\"],\n",
    "    \"estimator__degree\":[1, 2],\n",
    "}\n",
    "\n",
    "model_tunning = GridSearchCV(svc, param_grid=parameters,\n",
    "                             scoring='jaccard_micro', n_jobs=-1)\n",
    "\n",
    "model_tunning.fit(X_train_multilabel, y_train)\n",
    "\n",
    "print(\"Best score:\", model_tunning.best_score_)\n",
    "print(\"Param:\", model_tunning.best_params_)"
   ]
  },
  {
   "cell_type": "code",
   "execution_count": 22,
   "metadata": {},
   "outputs": [],
   "source": [
    "svc = OneVsRestClassifier(SVC(C=2,\n",
    "                              kernel='rbf',\n",
    "                              degree=1))\n",
    "svc.fit(X_train_multilabel, y_train)\n",
    "y_pred_svc = svc.predict(X_test_multilabel)"
   ]
  },
  {
   "cell_type": "code",
   "execution_count": 34,
   "metadata": {},
   "outputs": [
    {
     "name": "stdout",
     "output_type": "stream",
     "text": [
      "Accuracy : 0.0837138508371385\n",
      "Macro f1 score : 0.015315249748180814\n",
      "Micro f1 score : 0.0837138508371385\n",
      "Hamming loss : 0.9162861491628614\n",
      "Jaccard weighted score : 0.04114551934858139\n"
     ]
    }
   ],
   "source": [
    "print(\"Accuracy :\",metrics.accuracy_score(y_test,y_pred_svc))\n",
    "print(\"Macro f1 score :\",metrics.f1_score(y_test, y_pred_svc, average = 'macro'))\n",
    "print(\"Micro f1 score :\",metrics.f1_score(y_test, y_pred_svc, average = 'micro'))\n",
    "print(\"Hamming loss :\",metrics.hamming_loss(y_test,y_pred_svc))\n",
    "print(\"Jaccard weighted score :\",metrics.jaccard_score(y_test,y_pred_svc, average = 'weighted'))"
   ]
  },
  {
   "cell_type": "code",
   "execution_count": null,
   "metadata": {},
   "outputs": [],
   "source": [
    "rf = OneVsRestClassifier(RandomForestClassifier(\n",
    "                         n_estimators=200,\n",
    "                         max_depth=10,\n",
    "                         n_jobs=-1))\n",
    "rf.fit(X_train_multilabel, y_train)\n",
    "y_pred_rf = rf.predict(X_test_multilabel)"
   ]
  },
  {
   "cell_type": "code",
   "execution_count": 31,
   "metadata": {},
   "outputs": [
    {
     "ename": "NameError",
     "evalue": "name 'y_pred_rf' is not defined",
     "output_type": "error",
     "traceback": [
      "\u001b[0;31m---------------------------------------------------------------------------\u001b[0m",
      "\u001b[0;31mNameError\u001b[0m                                 Traceback (most recent call last)",
      "\u001b[0;32m<ipython-input-31-acdcd9b6c872>\u001b[0m in \u001b[0;36m<module>\u001b[0;34m\u001b[0m\n\u001b[0;32m----> 1\u001b[0;31m \u001b[0mprint\u001b[0m\u001b[0;34m(\u001b[0m\u001b[0;34m\"Accuracy :\"\u001b[0m\u001b[0;34m,\u001b[0m\u001b[0mmetrics\u001b[0m\u001b[0;34m.\u001b[0m\u001b[0maccuracy_score\u001b[0m\u001b[0;34m(\u001b[0m\u001b[0my_test\u001b[0m\u001b[0;34m,\u001b[0m\u001b[0my_pred_rf\u001b[0m\u001b[0;34m)\u001b[0m\u001b[0;34m)\u001b[0m\u001b[0;34m\u001b[0m\u001b[0;34m\u001b[0m\u001b[0m\n\u001b[0m\u001b[1;32m      2\u001b[0m \u001b[0mprint\u001b[0m\u001b[0;34m(\u001b[0m\u001b[0;34m\"Macro f1 score :\"\u001b[0m\u001b[0;34m,\u001b[0m\u001b[0mmetrics\u001b[0m\u001b[0;34m.\u001b[0m\u001b[0mf1_score\u001b[0m\u001b[0;34m(\u001b[0m\u001b[0my_test\u001b[0m\u001b[0;34m,\u001b[0m \u001b[0my_pred_rf\u001b[0m\u001b[0;34m,\u001b[0m \u001b[0maverage\u001b[0m \u001b[0;34m=\u001b[0m \u001b[0;34m'macro'\u001b[0m\u001b[0;34m)\u001b[0m\u001b[0;34m)\u001b[0m\u001b[0;34m\u001b[0m\u001b[0;34m\u001b[0m\u001b[0m\n\u001b[1;32m      3\u001b[0m \u001b[0mprint\u001b[0m\u001b[0;34m(\u001b[0m\u001b[0;34m\"Micro f1 score :\"\u001b[0m\u001b[0;34m,\u001b[0m\u001b[0mmetrics\u001b[0m\u001b[0;34m.\u001b[0m\u001b[0mf1_score\u001b[0m\u001b[0;34m(\u001b[0m\u001b[0my_test\u001b[0m\u001b[0;34m,\u001b[0m \u001b[0my_pred_rf\u001b[0m\u001b[0;34m,\u001b[0m \u001b[0maverage\u001b[0m \u001b[0;34m=\u001b[0m \u001b[0;34m'micro'\u001b[0m\u001b[0;34m)\u001b[0m\u001b[0;34m)\u001b[0m\u001b[0;34m\u001b[0m\u001b[0;34m\u001b[0m\u001b[0m\n\u001b[1;32m      4\u001b[0m \u001b[0mprint\u001b[0m\u001b[0;34m(\u001b[0m\u001b[0;34m\"Hamming loss :\"\u001b[0m\u001b[0;34m,\u001b[0m\u001b[0mmetrics\u001b[0m\u001b[0;34m.\u001b[0m\u001b[0mhamming_loss\u001b[0m\u001b[0;34m(\u001b[0m\u001b[0my_test\u001b[0m\u001b[0;34m,\u001b[0m\u001b[0my_pred_rf\u001b[0m\u001b[0;34m)\u001b[0m\u001b[0;34m)\u001b[0m\u001b[0;34m\u001b[0m\u001b[0;34m\u001b[0m\u001b[0m\n\u001b[1;32m      5\u001b[0m \u001b[0mprint\u001b[0m\u001b[0;34m(\u001b[0m\u001b[0;34m\"Jaccard micro score :\"\u001b[0m\u001b[0;34m,\u001b[0m\u001b[0mmetrics\u001b[0m\u001b[0;34m.\u001b[0m\u001b[0mjaccard_score\u001b[0m\u001b[0;34m(\u001b[0m\u001b[0my_test\u001b[0m\u001b[0;34m,\u001b[0m\u001b[0my_pred_rf\u001b[0m\u001b[0;34m,\u001b[0m \u001b[0maverage\u001b[0m \u001b[0;34m=\u001b[0m \u001b[0;34m'micro'\u001b[0m\u001b[0;34m)\u001b[0m\u001b[0;34m)\u001b[0m\u001b[0;34m\u001b[0m\u001b[0;34m\u001b[0m\u001b[0m\n",
      "\u001b[0;31mNameError\u001b[0m: name 'y_pred_rf' is not defined"
     ]
    }
   ],
   "source": [
    "print(\"Accuracy :\",metrics.accuracy_score(y_test,y_pred_rf))\n",
    "print(\"Macro f1 score :\",metrics.f1_score(y_test, y_pred_rf, average = 'macro'))\n",
    "print(\"Micro f1 score :\",metrics.f1_score(y_test, y_pred_rf, average = 'micro'))\n",
    "print(\"Hamming loss :\",metrics.hamming_loss(y_test,y_pred_rf))\n",
    "print(\"Jaccard weighted score :\",metrics.jaccard_score(y_test,y_pred_rf, average = 'weighted'))"
   ]
  },
  {
   "cell_type": "markdown",
   "metadata": {},
   "source": [
    "# Saving Model"
   ]
  },
  {
   "cell_type": "code",
   "execution_count": 35,
   "metadata": {},
   "outputs": [],
   "source": [
    "pickle.dump(vectorizer, open('tfidf', 'wb'))\n",
    "pickle.dump(clf2, open('model', 'wb'))"
   ]
  },
  {
   "cell_type": "code",
   "execution_count": null,
   "metadata": {},
   "outputs": [],
   "source": []
  }
 ],
 "metadata": {
  "kernelspec": {
   "display_name": "Python 3",
   "language": "python",
   "name": "python3"
  },
  "language_info": {
   "codemirror_mode": {
    "name": "ipython",
    "version": 3
   },
   "file_extension": ".py",
   "mimetype": "text/x-python",
   "name": "python",
   "nbconvert_exporter": "python",
   "pygments_lexer": "ipython3",
   "version": "3.8.3"
  }
 },
 "nbformat": 4,
 "nbformat_minor": 4
}
